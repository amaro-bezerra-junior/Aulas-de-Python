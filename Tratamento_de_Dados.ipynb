{
  "nbformat": 4,
  "nbformat_minor": 0,
  "metadata": {
    "colab": {
      "name": "Tratamento_de_Dados.ipynb",
      "provenance": [],
      "collapsed_sections": []
    },
    "kernelspec": {
      "name": "python3",
      "display_name": "Python 3"
    }
  },
  "cells": [
    {
      "cell_type": "markdown",
      "metadata": {
        "id": "zVG2GvX88-e0",
        "colab_type": "text"
      },
      "source": [
        "# Manipulação de Dados"
      ]
    },
    {
      "cell_type": "code",
      "metadata": {
        "id": "YLnh0HJa9Amg",
        "colab_type": "code",
        "colab": {}
      },
      "source": [
        "import pandas as pd"
      ],
      "execution_count": 0,
      "outputs": []
    },
    {
      "cell_type": "markdown",
      "metadata": {
        "id": "RiSNqj3N9K5n",
        "colab_type": "text"
      },
      "source": [
        "# Leitura de Arquivos\n"
      ]
    },
    {
      "cell_type": "code",
      "metadata": {
        "id": "LX0ohYh3Horz",
        "colab_type": "code",
        "colab": {}
      },
      "source": [
        "print ('Realizando a Leitura dos Arquivos...')"
      ],
      "execution_count": 0,
      "outputs": []
    },
    {
      "cell_type": "markdown",
      "metadata": {
        "id": "59UBKz0e9pDk",
        "colab_type": "text"
      },
      "source": [
        "## Arquivos XLSX"
      ]
    },
    {
      "cell_type": "markdown",
      "metadata": {
        "id": "tRBo5Yiz9jV_",
        "colab_type": "text"
      },
      "source": [
        "## Arquivos CSV e TXT"
      ]
    },
    {
      "cell_type": "markdown",
      "metadata": {
        "id": "9MJmCCjf-mQf",
        "colab_type": "text"
      },
      "source": [
        "pd.read_csv(**string**, sep = **string**, skiprows = **int**, encodig = **string especifica**)"
      ]
    },
    {
      "cell_type": "markdown",
      "metadata": {
        "id": "kVTTj-6N_MBf",
        "colab_type": "text"
      },
      "source": [
        "1. nome do arquivo\n",
        "2. string que separa os dados no arquivo\n",
        "3. quantidade de linhas a serem puladas\n",
        "4. como o arquivo está codificado: utf8 ou latin-1"
      ]
    },
    {
      "cell_type": "code",
      "metadata": {
        "id": "23-6hKvZ_8J5",
        "colab_type": "code",
        "colab": {}
      },
      "source": [
        "df_materiais = pd.read_csv('materiais.csv',sep = ';', skiprows = 0, encoding = 'utf-8')"
      ],
      "execution_count": 0,
      "outputs": []
    },
    {
      "cell_type": "code",
      "metadata": {
        "id": "0DRdiQqBBazG",
        "colab_type": "code",
        "outputId": "7ad0f811-435c-46be-e52c-80bfe4085e1d",
        "colab": {
          "base_uri": "https://localhost:8080/",
          "height": 34
        }
      },
      "source": [
        "df_materiais['Material'].loc[0]"
      ],
      "execution_count": 0,
      "outputs": [
        {
          "output_type": "execute_result",
          "data": {
            "text/plain": [
              "4000010"
            ]
          },
          "metadata": {
            "tags": []
          },
          "execution_count": 3
        }
      ]
    },
    {
      "cell_type": "code",
      "metadata": {
        "id": "NuO9dqDICCCj",
        "colab_type": "code",
        "colab": {}
      },
      "source": [
        "df_pedidos = pd.read_csv('pedidos.txt', sep = '|', skiprows = 2, encoding='latin-1')"
      ],
      "execution_count": 0,
      "outputs": []
    },
    {
      "cell_type": "markdown",
      "metadata": {
        "id": "2ojAR1Sr-hTE",
        "colab_type": "text"
      },
      "source": [
        "## Arquivos XLSX"
      ]
    },
    {
      "cell_type": "markdown",
      "metadata": {
        "id": "8ZK2E-f_C1nK",
        "colab_type": "text"
      },
      "source": [
        "pd.read_excel(**string**, sheet_name = **string**, ou **int**, skiprows = **int**)"
      ]
    },
    {
      "cell_type": "markdown",
      "metadata": {
        "id": "D4hkLxn-C3B4",
        "colab_type": "text"
      },
      "source": [
        "1. nome do arquivo\n",
        "2. nome da aba do excel ou indice da aba do excel\n",
        "3. número de linhas a serem puladas"
      ]
    },
    {
      "cell_type": "code",
      "metadata": {
        "id": "p4QVGqt4-kU5",
        "colab_type": "code",
        "colab": {}
      },
      "source": [
        "df_vendas1 = pd.read_excel('vendas_1.xlsx', sheet_name = 'vendas', skiprows=0)"
      ],
      "execution_count": 0,
      "outputs": []
    },
    {
      "cell_type": "code",
      "metadata": {
        "id": "hdfevXgoEB30",
        "colab_type": "code",
        "colab": {}
      },
      "source": [
        "df_vendas2 = pd.read_excel('vendas_2.xlsx', sheet_name= 0, skiprows = 0)"
      ],
      "execution_count": 0,
      "outputs": []
    },
    {
      "cell_type": "markdown",
      "metadata": {
        "id": "W0Uc83fRFYch",
        "colab_type": "text"
      },
      "source": [
        "**Tratamento de Dados**"
      ]
    },
    {
      "cell_type": "code",
      "metadata": {
        "id": "2UvLTlyYInej",
        "colab_type": "code",
        "colab": {}
      },
      "source": [
        "print ('Realizando o Tratamento de dados')"
      ],
      "execution_count": 0,
      "outputs": []
    },
    {
      "cell_type": "markdown",
      "metadata": {
        "id": "saoGv0gOFWJm",
        "colab_type": "text"
      },
      "source": [
        "Renomeando Colunas"
      ]
    },
    {
      "cell_type": "markdown",
      "metadata": {
        "id": "jWImrELPFhKQ",
        "colab_type": "text"
      },
      "source": [
        "dataframe.rename(columns=**dict**)"
      ]
    },
    {
      "cell_type": "markdown",
      "metadata": {
        "id": "MnSJ0KRTFvjo",
        "colab_type": "text"
      },
      "source": [
        "1. dict = {'coluna_antiga':'coluna_nova'}"
      ]
    },
    {
      "cell_type": "code",
      "metadata": {
        "id": "3lrw5hN4FfQc",
        "colab_type": "code",
        "colab": {}
      },
      "source": [
        "df_materiais = df_materiais.rename(columns = {'Material':'material','Texto breve material':'texto_breve'})"
      ],
      "execution_count": 0,
      "outputs": []
    },
    {
      "cell_type": "code",
      "metadata": {
        "id": "J6C-NrSMGCSI",
        "colab_type": "code",
        "outputId": "cdcb44f9-af0d-4f86-b58d-589f17f718dd",
        "colab": {
          "base_uri": "https://localhost:8080/",
          "height": 419
        }
      },
      "source": [
        "df_materiais"
      ],
      "execution_count": 0,
      "outputs": [
        {
          "output_type": "execute_result",
          "data": {
            "text/html": [
              "<div>\n",
              "<style scoped>\n",
              "    .dataframe tbody tr th:only-of-type {\n",
              "        vertical-align: middle;\n",
              "    }\n",
              "\n",
              "    .dataframe tbody tr th {\n",
              "        vertical-align: top;\n",
              "    }\n",
              "\n",
              "    .dataframe thead th {\n",
              "        text-align: right;\n",
              "    }\n",
              "</style>\n",
              "<table border=\"1\" class=\"dataframe\">\n",
              "  <thead>\n",
              "    <tr style=\"text-align: right;\">\n",
              "      <th></th>\n",
              "      <th>material</th>\n",
              "      <th>texto_breve</th>\n",
              "    </tr>\n",
              "  </thead>\n",
              "  <tbody>\n",
              "    <tr>\n",
              "      <th>0</th>\n",
              "      <td>4000010</td>\n",
              "      <td>ALCACHOFRA 300MG</td>\n",
              "    </tr>\n",
              "    <tr>\n",
              "      <th>1</th>\n",
              "      <td>4000013</td>\n",
              "      <td>ANTI-SEPTICO ANESTESICO</td>\n",
              "    </tr>\n",
              "    <tr>\n",
              "      <th>2</th>\n",
              "      <td>4000014</td>\n",
              "      <td>ASSEPTCARE SOL</td>\n",
              "    </tr>\n",
              "    <tr>\n",
              "      <th>3</th>\n",
              "      <td>4000015</td>\n",
              "      <td>ASSEPTCARE SOL</td>\n",
              "    </tr>\n",
              "    <tr>\n",
              "      <th>4</th>\n",
              "      <td>4000016</td>\n",
              "      <td>BENATUX FRAMBOESA</td>\n",
              "    </tr>\n",
              "    <tr>\n",
              "      <th>...</th>\n",
              "      <td>...</td>\n",
              "      <td>...</td>\n",
              "    </tr>\n",
              "    <tr>\n",
              "      <th>4577</th>\n",
              "      <td>6001409</td>\n",
              "      <td>SABONETE LIQ</td>\n",
              "    </tr>\n",
              "    <tr>\n",
              "      <th>4578</th>\n",
              "      <td>6001410</td>\n",
              "      <td>SABONETE LIQ</td>\n",
              "    </tr>\n",
              "    <tr>\n",
              "      <th>4579</th>\n",
              "      <td>6001411</td>\n",
              "      <td>TÔNICO NIVEA</td>\n",
              "    </tr>\n",
              "    <tr>\n",
              "      <th>4580</th>\n",
              "      <td>6001412</td>\n",
              "      <td>TÔNICO NIVEA</td>\n",
              "    </tr>\n",
              "    <tr>\n",
              "      <th>4581</th>\n",
              "      <td>6001415</td>\n",
              "      <td>CHOCOLATE KINDER</td>\n",
              "    </tr>\n",
              "  </tbody>\n",
              "</table>\n",
              "<p>4582 rows × 2 columns</p>\n",
              "</div>"
            ],
            "text/plain": [
              "      material              texto_breve\n",
              "0      4000010         ALCACHOFRA 300MG\n",
              "1      4000013  ANTI-SEPTICO ANESTESICO\n",
              "2      4000014           ASSEPTCARE SOL\n",
              "3      4000015           ASSEPTCARE SOL\n",
              "4      4000016        BENATUX FRAMBOESA\n",
              "...        ...                      ...\n",
              "4577   6001409             SABONETE LIQ\n",
              "4578   6001410             SABONETE LIQ\n",
              "4579   6001411             TÔNICO NIVEA\n",
              "4580   6001412             TÔNICO NIVEA\n",
              "4581   6001415         CHOCOLATE KINDER\n",
              "\n",
              "[4582 rows x 2 columns]"
            ]
          },
          "metadata": {
            "tags": []
          },
          "execution_count": 8
        }
      ]
    },
    {
      "cell_type": "markdown",
      "metadata": {
        "id": "t51B7EdhG6fv",
        "colab_type": "text"
      },
      "source": [
        "dataframe.columns = **lista**"
      ]
    },
    {
      "cell_type": "markdown",
      "metadata": {
        "id": "LX8HH1VMH_du",
        "colab_type": "text"
      },
      "source": [
        "1. lista = ['coluna_nova']"
      ]
    },
    {
      "cell_type": "code",
      "metadata": {
        "id": "hPVvjHCmGhRv",
        "colab_type": "code",
        "colab": {}
      },
      "source": [
        "df_pedidos.columns = ['cod_fornecedor', 'material', 'qtd_pedido', 'texto_breve', 'qtd_estoque']"
      ],
      "execution_count": 0,
      "outputs": []
    },
    {
      "cell_type": "code",
      "metadata": {
        "id": "HMPEU--3HTG1",
        "colab_type": "code",
        "outputId": "949ee6d2-ac6e-4217-ab12-237ce6b4eabe",
        "colab": {
          "base_uri": "https://localhost:8080/",
          "height": 419
        }
      },
      "source": [
        "df_pedidos"
      ],
      "execution_count": 0,
      "outputs": [
        {
          "output_type": "execute_result",
          "data": {
            "text/html": [
              "<div>\n",
              "<style scoped>\n",
              "    .dataframe tbody tr th:only-of-type {\n",
              "        vertical-align: middle;\n",
              "    }\n",
              "\n",
              "    .dataframe tbody tr th {\n",
              "        vertical-align: top;\n",
              "    }\n",
              "\n",
              "    .dataframe thead th {\n",
              "        text-align: right;\n",
              "    }\n",
              "</style>\n",
              "<table border=\"1\" class=\"dataframe\">\n",
              "  <thead>\n",
              "    <tr style=\"text-align: right;\">\n",
              "      <th></th>\n",
              "      <th>cod_fornecedor</th>\n",
              "      <th>material</th>\n",
              "      <th>qtd_pedido</th>\n",
              "      <th>texto_breve</th>\n",
              "      <th>qtd_estoque</th>\n",
              "    </tr>\n",
              "  </thead>\n",
              "  <tbody>\n",
              "    <tr>\n",
              "      <th>0</th>\n",
              "      <td>3593</td>\n",
              "      <td>4003232.0</td>\n",
              "      <td>120</td>\n",
              "      <td>FLUCANIL 150MG</td>\n",
              "      <td>12</td>\n",
              "    </tr>\n",
              "    <tr>\n",
              "      <th>1</th>\n",
              "      <td>3593</td>\n",
              "      <td>4005091.0</td>\n",
              "      <td>60</td>\n",
              "      <td>BETRICORT CREME</td>\n",
              "      <td>6</td>\n",
              "    </tr>\n",
              "    <tr>\n",
              "      <th>2</th>\n",
              "      <td>3593</td>\n",
              "      <td>4003225.0</td>\n",
              "      <td>51</td>\n",
              "      <td>COLIRIO GEOLAB</td>\n",
              "      <td>5</td>\n",
              "    </tr>\n",
              "    <tr>\n",
              "      <th>3</th>\n",
              "      <td>3593</td>\n",
              "      <td>4003251.0</td>\n",
              "      <td>60</td>\n",
              "      <td>MIZONOL CREME</td>\n",
              "      <td>6</td>\n",
              "    </tr>\n",
              "    <tr>\n",
              "      <th>4</th>\n",
              "      <td>3593</td>\n",
              "      <td>4001716.0</td>\n",
              "      <td>20</td>\n",
              "      <td>GINO-COLON TUBO</td>\n",
              "      <td>2</td>\n",
              "    </tr>\n",
              "    <tr>\n",
              "      <th>...</th>\n",
              "      <td>...</td>\n",
              "      <td>...</td>\n",
              "      <td>...</td>\n",
              "      <td>...</td>\n",
              "      <td>...</td>\n",
              "    </tr>\n",
              "    <tr>\n",
              "      <th>1064</th>\n",
              "      <td>4239</td>\n",
              "      <td>4000333.0</td>\n",
              "      <td>1</td>\n",
              "      <td>CRESTOR 10MG</td>\n",
              "      <td>0</td>\n",
              "    </tr>\n",
              "    <tr>\n",
              "      <th>1065</th>\n",
              "      <td>4239</td>\n",
              "      <td>4003698.0</td>\n",
              "      <td>1</td>\n",
              "      <td>PANTOGAR C/90CP</td>\n",
              "      <td>0</td>\n",
              "    </tr>\n",
              "    <tr>\n",
              "      <th>1066</th>\n",
              "      <td>4239</td>\n",
              "      <td>4000359.0</td>\n",
              "      <td>1</td>\n",
              "      <td>XARELTO 15MG</td>\n",
              "      <td>0</td>\n",
              "    </tr>\n",
              "    <tr>\n",
              "      <th>1067</th>\n",
              "      <td>4239</td>\n",
              "      <td>4005114.0</td>\n",
              "      <td>1</td>\n",
              "      <td>ARADOIS H</td>\n",
              "      <td>0</td>\n",
              "    </tr>\n",
              "    <tr>\n",
              "      <th>1068</th>\n",
              "      <td>4239</td>\n",
              "      <td>4003731.0</td>\n",
              "      <td>1</td>\n",
              "      <td>DIOVAN 160MG</td>\n",
              "      <td>0</td>\n",
              "    </tr>\n",
              "  </tbody>\n",
              "</table>\n",
              "<p>1069 rows × 5 columns</p>\n",
              "</div>"
            ],
            "text/plain": [
              "      cod_fornecedor   material  qtd_pedido      texto_breve  qtd_estoque\n",
              "0               3593  4003232.0         120   FLUCANIL 150MG           12\n",
              "1               3593  4005091.0          60  BETRICORT CREME            6\n",
              "2               3593  4003225.0          51   COLIRIO GEOLAB            5\n",
              "3               3593  4003251.0          60    MIZONOL CREME            6\n",
              "4               3593  4001716.0          20  GINO-COLON TUBO            2\n",
              "...              ...        ...         ...              ...          ...\n",
              "1064            4239  4000333.0           1     CRESTOR 10MG            0\n",
              "1065            4239  4003698.0           1  PANTOGAR C/90CP            0\n",
              "1066            4239  4000359.0           1     XARELTO 15MG            0\n",
              "1067            4239  4005114.0           1        ARADOIS H            0\n",
              "1068            4239  4003731.0           1     DIOVAN 160MG            0\n",
              "\n",
              "[1069 rows x 5 columns]"
            ]
          },
          "metadata": {
            "tags": []
          },
          "execution_count": 10
        }
      ]
    },
    {
      "cell_type": "code",
      "metadata": {
        "id": "nBo2fdTiJqOb",
        "colab_type": "code",
        "colab": {}
      },
      "source": [
        "df_vendas1.columns = ['data', 'material', 'qtd_vendas']"
      ],
      "execution_count": 0,
      "outputs": []
    },
    {
      "cell_type": "code",
      "metadata": {
        "id": "qJF3V1JYJxj1",
        "colab_type": "code",
        "colab": {}
      },
      "source": [
        "df_vendas2.columns = ['data', 'material', 'qtd_vendas']"
      ],
      "execution_count": 0,
      "outputs": []
    },
    {
      "cell_type": "markdown",
      "metadata": {
        "id": "KtC7SFImO5iD",
        "colab_type": "text"
      },
      "source": [
        "Deltando Colunas"
      ]
    },
    {
      "cell_type": "markdown",
      "metadata": {
        "id": "eBv1mLdPO9Ql",
        "colab_type": "text"
      },
      "source": [
        "dataframe.drop(**lista**, axis = **string especifica** ou **int**)"
      ]
    },
    {
      "cell_type": "markdown",
      "metadata": {
        "id": "BLwQc21dPUUF",
        "colab_type": "text"
      },
      "source": [
        "1. lista de nomes de colunas ou index de linhas a serem deletados\n",
        "2. 'columns' ou 'index'\n",
        "3. 1 (colunas) ou 0 (linhas)"
      ]
    },
    {
      "cell_type": "code",
      "metadata": {
        "id": "WwzzBUoAKCOC",
        "colab_type": "code",
        "colab": {}
      },
      "source": [
        "df_materiais = df_materiais.drop(['texto_breve'], axis='columns')"
      ],
      "execution_count": 0,
      "outputs": []
    },
    {
      "cell_type": "code",
      "metadata": {
        "id": "FDviCsS1P1gl",
        "colab_type": "code",
        "outputId": "fbd58121-c3ec-4f2f-a235-bac1fd895581",
        "colab": {
          "base_uri": "https://localhost:8080/",
          "height": 419
        }
      },
      "source": [
        "df_materiais"
      ],
      "execution_count": 0,
      "outputs": [
        {
          "output_type": "execute_result",
          "data": {
            "text/html": [
              "<div>\n",
              "<style scoped>\n",
              "    .dataframe tbody tr th:only-of-type {\n",
              "        vertical-align: middle;\n",
              "    }\n",
              "\n",
              "    .dataframe tbody tr th {\n",
              "        vertical-align: top;\n",
              "    }\n",
              "\n",
              "    .dataframe thead th {\n",
              "        text-align: right;\n",
              "    }\n",
              "</style>\n",
              "<table border=\"1\" class=\"dataframe\">\n",
              "  <thead>\n",
              "    <tr style=\"text-align: right;\">\n",
              "      <th></th>\n",
              "      <th>material</th>\n",
              "    </tr>\n",
              "  </thead>\n",
              "  <tbody>\n",
              "    <tr>\n",
              "      <th>0</th>\n",
              "      <td>4000010</td>\n",
              "    </tr>\n",
              "    <tr>\n",
              "      <th>1</th>\n",
              "      <td>4000013</td>\n",
              "    </tr>\n",
              "    <tr>\n",
              "      <th>2</th>\n",
              "      <td>4000014</td>\n",
              "    </tr>\n",
              "    <tr>\n",
              "      <th>3</th>\n",
              "      <td>4000015</td>\n",
              "    </tr>\n",
              "    <tr>\n",
              "      <th>4</th>\n",
              "      <td>4000016</td>\n",
              "    </tr>\n",
              "    <tr>\n",
              "      <th>...</th>\n",
              "      <td>...</td>\n",
              "    </tr>\n",
              "    <tr>\n",
              "      <th>4577</th>\n",
              "      <td>6001409</td>\n",
              "    </tr>\n",
              "    <tr>\n",
              "      <th>4578</th>\n",
              "      <td>6001410</td>\n",
              "    </tr>\n",
              "    <tr>\n",
              "      <th>4579</th>\n",
              "      <td>6001411</td>\n",
              "    </tr>\n",
              "    <tr>\n",
              "      <th>4580</th>\n",
              "      <td>6001412</td>\n",
              "    </tr>\n",
              "    <tr>\n",
              "      <th>4581</th>\n",
              "      <td>6001415</td>\n",
              "    </tr>\n",
              "  </tbody>\n",
              "</table>\n",
              "<p>4582 rows × 1 columns</p>\n",
              "</div>"
            ],
            "text/plain": [
              "      material\n",
              "0      4000010\n",
              "1      4000013\n",
              "2      4000014\n",
              "3      4000015\n",
              "4      4000016\n",
              "...        ...\n",
              "4577   6001409\n",
              "4578   6001410\n",
              "4579   6001411\n",
              "4580   6001412\n",
              "4581   6001415\n",
              "\n",
              "[4582 rows x 1 columns]"
            ]
          },
          "metadata": {
            "tags": []
          },
          "execution_count": 14
        }
      ]
    },
    {
      "cell_type": "markdown",
      "metadata": {
        "id": "OYyVnXoeTche",
        "colab_type": "text"
      },
      "source": [
        "dataframe[**lista**].copy()"
      ]
    },
    {
      "cell_type": "markdown",
      "metadata": {
        "id": "ctHUFuAqTkPM",
        "colab_type": "text"
      },
      "source": [
        "1. lista = ['colunas a manter']"
      ]
    },
    {
      "cell_type": "code",
      "metadata": {
        "id": "h_4LPDNJThI5",
        "colab_type": "code",
        "colab": {}
      },
      "source": [
        "df_pedidos = df_pedidos[['material', 'qtd_pedido', 'qtd_estoque']].copy()"
      ],
      "execution_count": 0,
      "outputs": []
    },
    {
      "cell_type": "code",
      "metadata": {
        "id": "dRcVCXfaUBZp",
        "colab_type": "code",
        "outputId": "d3a1e6c3-1ebe-4ad9-9c84-6d684bc1ac87",
        "colab": {
          "base_uri": "https://localhost:8080/",
          "height": 419
        }
      },
      "source": [
        "df_pedidos"
      ],
      "execution_count": 0,
      "outputs": [
        {
          "output_type": "execute_result",
          "data": {
            "text/html": [
              "<div>\n",
              "<style scoped>\n",
              "    .dataframe tbody tr th:only-of-type {\n",
              "        vertical-align: middle;\n",
              "    }\n",
              "\n",
              "    .dataframe tbody tr th {\n",
              "        vertical-align: top;\n",
              "    }\n",
              "\n",
              "    .dataframe thead th {\n",
              "        text-align: right;\n",
              "    }\n",
              "</style>\n",
              "<table border=\"1\" class=\"dataframe\">\n",
              "  <thead>\n",
              "    <tr style=\"text-align: right;\">\n",
              "      <th></th>\n",
              "      <th>material</th>\n",
              "      <th>qtd_pedido</th>\n",
              "      <th>qtd_estoque</th>\n",
              "    </tr>\n",
              "  </thead>\n",
              "  <tbody>\n",
              "    <tr>\n",
              "      <th>0</th>\n",
              "      <td>4003232.0</td>\n",
              "      <td>120</td>\n",
              "      <td>12</td>\n",
              "    </tr>\n",
              "    <tr>\n",
              "      <th>1</th>\n",
              "      <td>4005091.0</td>\n",
              "      <td>60</td>\n",
              "      <td>6</td>\n",
              "    </tr>\n",
              "    <tr>\n",
              "      <th>2</th>\n",
              "      <td>4003225.0</td>\n",
              "      <td>51</td>\n",
              "      <td>5</td>\n",
              "    </tr>\n",
              "    <tr>\n",
              "      <th>3</th>\n",
              "      <td>4003251.0</td>\n",
              "      <td>60</td>\n",
              "      <td>6</td>\n",
              "    </tr>\n",
              "    <tr>\n",
              "      <th>4</th>\n",
              "      <td>4001716.0</td>\n",
              "      <td>20</td>\n",
              "      <td>2</td>\n",
              "    </tr>\n",
              "    <tr>\n",
              "      <th>...</th>\n",
              "      <td>...</td>\n",
              "      <td>...</td>\n",
              "      <td>...</td>\n",
              "    </tr>\n",
              "    <tr>\n",
              "      <th>1064</th>\n",
              "      <td>4000333.0</td>\n",
              "      <td>1</td>\n",
              "      <td>0</td>\n",
              "    </tr>\n",
              "    <tr>\n",
              "      <th>1065</th>\n",
              "      <td>4003698.0</td>\n",
              "      <td>1</td>\n",
              "      <td>0</td>\n",
              "    </tr>\n",
              "    <tr>\n",
              "      <th>1066</th>\n",
              "      <td>4000359.0</td>\n",
              "      <td>1</td>\n",
              "      <td>0</td>\n",
              "    </tr>\n",
              "    <tr>\n",
              "      <th>1067</th>\n",
              "      <td>4005114.0</td>\n",
              "      <td>1</td>\n",
              "      <td>0</td>\n",
              "    </tr>\n",
              "    <tr>\n",
              "      <th>1068</th>\n",
              "      <td>4003731.0</td>\n",
              "      <td>1</td>\n",
              "      <td>0</td>\n",
              "    </tr>\n",
              "  </tbody>\n",
              "</table>\n",
              "<p>1069 rows × 3 columns</p>\n",
              "</div>"
            ],
            "text/plain": [
              "       material  qtd_pedido  qtd_estoque\n",
              "0     4003232.0         120           12\n",
              "1     4005091.0          60            6\n",
              "2     4003225.0          51            5\n",
              "3     4003251.0          60            6\n",
              "4     4001716.0          20            2\n",
              "...         ...         ...          ...\n",
              "1064  4000333.0           1            0\n",
              "1065  4003698.0           1            0\n",
              "1066  4000359.0           1            0\n",
              "1067  4005114.0           1            0\n",
              "1068  4003731.0           1            0\n",
              "\n",
              "[1069 rows x 3 columns]"
            ]
          },
          "metadata": {
            "tags": []
          },
          "execution_count": 16
        }
      ]
    },
    {
      "cell_type": "code",
      "metadata": {
        "id": "kNWUVEghTy1J",
        "colab_type": "code",
        "colab": {}
      },
      "source": [
        "df_vendas1 = df_vendas1[['material', 'qtd_vendas']].copy()"
      ],
      "execution_count": 0,
      "outputs": []
    },
    {
      "cell_type": "code",
      "metadata": {
        "id": "aJttOEh1WAMl",
        "colab_type": "code",
        "outputId": "c21adbea-75f5-4781-a3db-3f9bbef23ba6",
        "colab": {
          "base_uri": "https://localhost:8080/",
          "height": 419
        }
      },
      "source": [
        "df_vendas1"
      ],
      "execution_count": 0,
      "outputs": [
        {
          "output_type": "execute_result",
          "data": {
            "text/html": [
              "<div>\n",
              "<style scoped>\n",
              "    .dataframe tbody tr th:only-of-type {\n",
              "        vertical-align: middle;\n",
              "    }\n",
              "\n",
              "    .dataframe tbody tr th {\n",
              "        vertical-align: top;\n",
              "    }\n",
              "\n",
              "    .dataframe thead th {\n",
              "        text-align: right;\n",
              "    }\n",
              "</style>\n",
              "<table border=\"1\" class=\"dataframe\">\n",
              "  <thead>\n",
              "    <tr style=\"text-align: right;\">\n",
              "      <th></th>\n",
              "      <th>material</th>\n",
              "      <th>qtd_vendas</th>\n",
              "    </tr>\n",
              "  </thead>\n",
              "  <tbody>\n",
              "    <tr>\n",
              "      <th>0</th>\n",
              "      <td>6000110</td>\n",
              "      <td>1</td>\n",
              "    </tr>\n",
              "    <tr>\n",
              "      <th>1</th>\n",
              "      <td>6000129</td>\n",
              "      <td>1</td>\n",
              "    </tr>\n",
              "    <tr>\n",
              "      <th>2</th>\n",
              "      <td>6000163</td>\n",
              "      <td>1</td>\n",
              "    </tr>\n",
              "    <tr>\n",
              "      <th>3</th>\n",
              "      <td>6000172</td>\n",
              "      <td>1</td>\n",
              "    </tr>\n",
              "    <tr>\n",
              "      <th>4</th>\n",
              "      <td>6000892</td>\n",
              "      <td>1</td>\n",
              "    </tr>\n",
              "    <tr>\n",
              "      <th>...</th>\n",
              "      <td>...</td>\n",
              "      <td>...</td>\n",
              "    </tr>\n",
              "    <tr>\n",
              "      <th>8652</th>\n",
              "      <td>4005739</td>\n",
              "      <td>1</td>\n",
              "    </tr>\n",
              "    <tr>\n",
              "      <th>8653</th>\n",
              "      <td>4005739</td>\n",
              "      <td>1</td>\n",
              "    </tr>\n",
              "    <tr>\n",
              "      <th>8654</th>\n",
              "      <td>4005903</td>\n",
              "      <td>1</td>\n",
              "    </tr>\n",
              "    <tr>\n",
              "      <th>8655</th>\n",
              "      <td>4005911</td>\n",
              "      <td>1</td>\n",
              "    </tr>\n",
              "    <tr>\n",
              "      <th>8656</th>\n",
              "      <td>4005927</td>\n",
              "      <td>1</td>\n",
              "    </tr>\n",
              "  </tbody>\n",
              "</table>\n",
              "<p>8657 rows × 2 columns</p>\n",
              "</div>"
            ],
            "text/plain": [
              "      material  qtd_vendas\n",
              "0      6000110           1\n",
              "1      6000129           1\n",
              "2      6000163           1\n",
              "3      6000172           1\n",
              "4      6000892           1\n",
              "...        ...         ...\n",
              "8652   4005739           1\n",
              "8653   4005739           1\n",
              "8654   4005903           1\n",
              "8655   4005911           1\n",
              "8656   4005927           1\n",
              "\n",
              "[8657 rows x 2 columns]"
            ]
          },
          "metadata": {
            "tags": []
          },
          "execution_count": 18
        }
      ]
    },
    {
      "cell_type": "code",
      "metadata": {
        "id": "H74b7sHbWH3U",
        "colab_type": "code",
        "colab": {}
      },
      "source": [
        "df_vendas2 = df_vendas2[['material', 'qtd_vendas']].copy()"
      ],
      "execution_count": 0,
      "outputs": []
    },
    {
      "cell_type": "code",
      "metadata": {
        "id": "q2R9RAAjWSGZ",
        "colab_type": "code",
        "outputId": "40f28833-4087-4ef6-ec1e-98c8f24b9dc5",
        "colab": {
          "base_uri": "https://localhost:8080/",
          "height": 419
        }
      },
      "source": [
        "df_vendas2"
      ],
      "execution_count": 0,
      "outputs": [
        {
          "output_type": "execute_result",
          "data": {
            "text/html": [
              "<div>\n",
              "<style scoped>\n",
              "    .dataframe tbody tr th:only-of-type {\n",
              "        vertical-align: middle;\n",
              "    }\n",
              "\n",
              "    .dataframe tbody tr th {\n",
              "        vertical-align: top;\n",
              "    }\n",
              "\n",
              "    .dataframe thead th {\n",
              "        text-align: right;\n",
              "    }\n",
              "</style>\n",
              "<table border=\"1\" class=\"dataframe\">\n",
              "  <thead>\n",
              "    <tr style=\"text-align: right;\">\n",
              "      <th></th>\n",
              "      <th>material</th>\n",
              "      <th>qtd_vendas</th>\n",
              "    </tr>\n",
              "  </thead>\n",
              "  <tbody>\n",
              "    <tr>\n",
              "      <th>0</th>\n",
              "      <td>6001085</td>\n",
              "      <td>1</td>\n",
              "    </tr>\n",
              "    <tr>\n",
              "      <th>1</th>\n",
              "      <td>4000020</td>\n",
              "      <td>1</td>\n",
              "    </tr>\n",
              "    <tr>\n",
              "      <th>2</th>\n",
              "      <td>4000020</td>\n",
              "      <td>1</td>\n",
              "    </tr>\n",
              "    <tr>\n",
              "      <th>3</th>\n",
              "      <td>4000020</td>\n",
              "      <td>1</td>\n",
              "    </tr>\n",
              "    <tr>\n",
              "      <th>4</th>\n",
              "      <td>4000045</td>\n",
              "      <td>1</td>\n",
              "    </tr>\n",
              "    <tr>\n",
              "      <th>...</th>\n",
              "      <td>...</td>\n",
              "      <td>...</td>\n",
              "    </tr>\n",
              "    <tr>\n",
              "      <th>8139</th>\n",
              "      <td>6000768</td>\n",
              "      <td>1</td>\n",
              "    </tr>\n",
              "    <tr>\n",
              "      <th>8140</th>\n",
              "      <td>6000839</td>\n",
              "      <td>1</td>\n",
              "    </tr>\n",
              "    <tr>\n",
              "      <th>8141</th>\n",
              "      <td>6000843</td>\n",
              "      <td>1</td>\n",
              "    </tr>\n",
              "    <tr>\n",
              "      <th>8142</th>\n",
              "      <td>6000969</td>\n",
              "      <td>1</td>\n",
              "    </tr>\n",
              "    <tr>\n",
              "      <th>8143</th>\n",
              "      <td>6000400</td>\n",
              "      <td>1</td>\n",
              "    </tr>\n",
              "  </tbody>\n",
              "</table>\n",
              "<p>8144 rows × 2 columns</p>\n",
              "</div>"
            ],
            "text/plain": [
              "      material  qtd_vendas\n",
              "0      6001085           1\n",
              "1      4000020           1\n",
              "2      4000020           1\n",
              "3      4000020           1\n",
              "4      4000045           1\n",
              "...        ...         ...\n",
              "8139   6000768           1\n",
              "8140   6000839           1\n",
              "8141   6000843           1\n",
              "8142   6000969           1\n",
              "8143   6000400           1\n",
              "\n",
              "[8144 rows x 2 columns]"
            ]
          },
          "metadata": {
            "tags": []
          },
          "execution_count": 20
        }
      ]
    },
    {
      "cell_type": "markdown",
      "metadata": {
        "id": "CnPyk3x7W3XK",
        "colab_type": "text"
      },
      "source": [
        "## Verificando Tipos de Colunas"
      ]
    },
    {
      "cell_type": "markdown",
      "metadata": {
        "id": "K2w57F-HXAqk",
        "colab_type": "text"
      },
      "source": [
        "dataframe.dtypes (para verificar tipos de todas as colunas)\n",
        "\n",
        "dataframe ['coluna'].dtypes"
      ]
    },
    {
      "cell_type": "code",
      "metadata": {
        "id": "2N6_zUckW9u5",
        "colab_type": "code",
        "outputId": "6bd1258f-dddc-4eca-fa9d-235041e74482",
        "colab": {
          "base_uri": "https://localhost:8080/",
          "height": 51
        }
      },
      "source": [
        "df_materiais.dtypes"
      ],
      "execution_count": 0,
      "outputs": [
        {
          "output_type": "execute_result",
          "data": {
            "text/plain": [
              "material    int64\n",
              "dtype: object"
            ]
          },
          "metadata": {
            "tags": []
          },
          "execution_count": 21
        }
      ]
    },
    {
      "cell_type": "code",
      "metadata": {
        "id": "1T-_Of_MXVwU",
        "colab_type": "code",
        "outputId": "e661191a-6e2f-4f61-d560-ccbd4a7b5827",
        "colab": {
          "base_uri": "https://localhost:8080/",
          "height": 85
        }
      },
      "source": [
        "df_pedidos.dtypes"
      ],
      "execution_count": 0,
      "outputs": [
        {
          "output_type": "execute_result",
          "data": {
            "text/plain": [
              "material       float64\n",
              "qtd_pedido       int64\n",
              "qtd_estoque      int64\n",
              "dtype: object"
            ]
          },
          "metadata": {
            "tags": []
          },
          "execution_count": 22
        }
      ]
    },
    {
      "cell_type": "code",
      "metadata": {
        "id": "DEvghASgXs-V",
        "colab_type": "code",
        "outputId": "f0ff860e-a6cd-49d8-f2d9-4e16ec2e9cd0",
        "colab": {
          "base_uri": "https://localhost:8080/",
          "height": 419
        }
      },
      "source": [
        "df_pedidos"
      ],
      "execution_count": 0,
      "outputs": [
        {
          "output_type": "execute_result",
          "data": {
            "text/html": [
              "<div>\n",
              "<style scoped>\n",
              "    .dataframe tbody tr th:only-of-type {\n",
              "        vertical-align: middle;\n",
              "    }\n",
              "\n",
              "    .dataframe tbody tr th {\n",
              "        vertical-align: top;\n",
              "    }\n",
              "\n",
              "    .dataframe thead th {\n",
              "        text-align: right;\n",
              "    }\n",
              "</style>\n",
              "<table border=\"1\" class=\"dataframe\">\n",
              "  <thead>\n",
              "    <tr style=\"text-align: right;\">\n",
              "      <th></th>\n",
              "      <th>material</th>\n",
              "      <th>qtd_pedido</th>\n",
              "      <th>qtd_estoque</th>\n",
              "    </tr>\n",
              "  </thead>\n",
              "  <tbody>\n",
              "    <tr>\n",
              "      <th>0</th>\n",
              "      <td>4003232.0</td>\n",
              "      <td>120</td>\n",
              "      <td>12</td>\n",
              "    </tr>\n",
              "    <tr>\n",
              "      <th>1</th>\n",
              "      <td>4005091.0</td>\n",
              "      <td>60</td>\n",
              "      <td>6</td>\n",
              "    </tr>\n",
              "    <tr>\n",
              "      <th>2</th>\n",
              "      <td>4003225.0</td>\n",
              "      <td>51</td>\n",
              "      <td>5</td>\n",
              "    </tr>\n",
              "    <tr>\n",
              "      <th>3</th>\n",
              "      <td>4003251.0</td>\n",
              "      <td>60</td>\n",
              "      <td>6</td>\n",
              "    </tr>\n",
              "    <tr>\n",
              "      <th>4</th>\n",
              "      <td>4001716.0</td>\n",
              "      <td>20</td>\n",
              "      <td>2</td>\n",
              "    </tr>\n",
              "    <tr>\n",
              "      <th>...</th>\n",
              "      <td>...</td>\n",
              "      <td>...</td>\n",
              "      <td>...</td>\n",
              "    </tr>\n",
              "    <tr>\n",
              "      <th>1064</th>\n",
              "      <td>4000333.0</td>\n",
              "      <td>1</td>\n",
              "      <td>0</td>\n",
              "    </tr>\n",
              "    <tr>\n",
              "      <th>1065</th>\n",
              "      <td>4003698.0</td>\n",
              "      <td>1</td>\n",
              "      <td>0</td>\n",
              "    </tr>\n",
              "    <tr>\n",
              "      <th>1066</th>\n",
              "      <td>4000359.0</td>\n",
              "      <td>1</td>\n",
              "      <td>0</td>\n",
              "    </tr>\n",
              "    <tr>\n",
              "      <th>1067</th>\n",
              "      <td>4005114.0</td>\n",
              "      <td>1</td>\n",
              "      <td>0</td>\n",
              "    </tr>\n",
              "    <tr>\n",
              "      <th>1068</th>\n",
              "      <td>4003731.0</td>\n",
              "      <td>1</td>\n",
              "      <td>0</td>\n",
              "    </tr>\n",
              "  </tbody>\n",
              "</table>\n",
              "<p>1069 rows × 3 columns</p>\n",
              "</div>"
            ],
            "text/plain": [
              "       material  qtd_pedido  qtd_estoque\n",
              "0     4003232.0         120           12\n",
              "1     4005091.0          60            6\n",
              "2     4003225.0          51            5\n",
              "3     4003251.0          60            6\n",
              "4     4001716.0          20            2\n",
              "...         ...         ...          ...\n",
              "1064  4000333.0           1            0\n",
              "1065  4003698.0           1            0\n",
              "1066  4000359.0           1            0\n",
              "1067  4005114.0           1            0\n",
              "1068  4003731.0           1            0\n",
              "\n",
              "[1069 rows x 3 columns]"
            ]
          },
          "metadata": {
            "tags": []
          },
          "execution_count": 23
        }
      ]
    },
    {
      "cell_type": "code",
      "metadata": {
        "id": "-mqKh2ESXwXV",
        "colab_type": "code",
        "outputId": "24a34a8e-0f0d-44d7-b638-b28a297697e5",
        "colab": {
          "base_uri": "https://localhost:8080/",
          "height": 68
        }
      },
      "source": [
        "df_vendas1.dtypes"
      ],
      "execution_count": 0,
      "outputs": [
        {
          "output_type": "execute_result",
          "data": {
            "text/plain": [
              "material      int64\n",
              "qtd_vendas    int64\n",
              "dtype: object"
            ]
          },
          "metadata": {
            "tags": []
          },
          "execution_count": 24
        }
      ]
    },
    {
      "cell_type": "code",
      "metadata": {
        "id": "qqSjN7mCYL6r",
        "colab_type": "code",
        "outputId": "433acb42-14c9-47ef-e7ac-41881cfec94b",
        "colab": {
          "base_uri": "https://localhost:8080/",
          "height": 68
        }
      },
      "source": [
        "df_vendas2.dtypes"
      ],
      "execution_count": 0,
      "outputs": [
        {
          "output_type": "execute_result",
          "data": {
            "text/plain": [
              "material      int64\n",
              "qtd_vendas    int64\n",
              "dtype: object"
            ]
          },
          "metadata": {
            "tags": []
          },
          "execution_count": 25
        }
      ]
    },
    {
      "cell_type": "markdown",
      "metadata": {
        "id": "mKAlejM6YUAi",
        "colab_type": "text"
      },
      "source": [
        "Alterando Tipos de Coluna"
      ]
    },
    {
      "cell_type": "markdown",
      "metadata": {
        "id": "FGAc6DkcYaW7",
        "colab_type": "text"
      },
      "source": [
        "para apenas uma coluna:\n",
        "\n",
        "dataframe['coluna'].astypes(**palavra reservada**)"
      ]
    },
    {
      "cell_type": "markdown",
      "metadata": {
        "id": "RKwjznFCYst2",
        "colab_type": "text"
      },
      "source": [
        "1. palavra reservada = str ou int ou float ou bool"
      ]
    },
    {
      "cell_type": "code",
      "metadata": {
        "id": "5nBNgADdY4Ru",
        "colab_type": "code",
        "colab": {}
      },
      "source": [
        "df_pedidos['material'] = df_pedidos['material'].astype(int)"
      ],
      "execution_count": 0,
      "outputs": []
    },
    {
      "cell_type": "code",
      "metadata": {
        "id": "5PMVTBIgZBjK",
        "colab_type": "code",
        "outputId": "c8af8d0c-876b-4771-9ada-c729ec248dd3",
        "colab": {
          "base_uri": "https://localhost:8080/",
          "height": 419
        }
      },
      "source": [
        "df_pedidos"
      ],
      "execution_count": 0,
      "outputs": [
        {
          "output_type": "execute_result",
          "data": {
            "text/html": [
              "<div>\n",
              "<style scoped>\n",
              "    .dataframe tbody tr th:only-of-type {\n",
              "        vertical-align: middle;\n",
              "    }\n",
              "\n",
              "    .dataframe tbody tr th {\n",
              "        vertical-align: top;\n",
              "    }\n",
              "\n",
              "    .dataframe thead th {\n",
              "        text-align: right;\n",
              "    }\n",
              "</style>\n",
              "<table border=\"1\" class=\"dataframe\">\n",
              "  <thead>\n",
              "    <tr style=\"text-align: right;\">\n",
              "      <th></th>\n",
              "      <th>material</th>\n",
              "      <th>qtd_pedido</th>\n",
              "      <th>qtd_estoque</th>\n",
              "    </tr>\n",
              "  </thead>\n",
              "  <tbody>\n",
              "    <tr>\n",
              "      <th>0</th>\n",
              "      <td>4003232</td>\n",
              "      <td>120</td>\n",
              "      <td>12</td>\n",
              "    </tr>\n",
              "    <tr>\n",
              "      <th>1</th>\n",
              "      <td>4005091</td>\n",
              "      <td>60</td>\n",
              "      <td>6</td>\n",
              "    </tr>\n",
              "    <tr>\n",
              "      <th>2</th>\n",
              "      <td>4003225</td>\n",
              "      <td>51</td>\n",
              "      <td>5</td>\n",
              "    </tr>\n",
              "    <tr>\n",
              "      <th>3</th>\n",
              "      <td>4003251</td>\n",
              "      <td>60</td>\n",
              "      <td>6</td>\n",
              "    </tr>\n",
              "    <tr>\n",
              "      <th>4</th>\n",
              "      <td>4001716</td>\n",
              "      <td>20</td>\n",
              "      <td>2</td>\n",
              "    </tr>\n",
              "    <tr>\n",
              "      <th>...</th>\n",
              "      <td>...</td>\n",
              "      <td>...</td>\n",
              "      <td>...</td>\n",
              "    </tr>\n",
              "    <tr>\n",
              "      <th>1064</th>\n",
              "      <td>4000333</td>\n",
              "      <td>1</td>\n",
              "      <td>0</td>\n",
              "    </tr>\n",
              "    <tr>\n",
              "      <th>1065</th>\n",
              "      <td>4003698</td>\n",
              "      <td>1</td>\n",
              "      <td>0</td>\n",
              "    </tr>\n",
              "    <tr>\n",
              "      <th>1066</th>\n",
              "      <td>4000359</td>\n",
              "      <td>1</td>\n",
              "      <td>0</td>\n",
              "    </tr>\n",
              "    <tr>\n",
              "      <th>1067</th>\n",
              "      <td>4005114</td>\n",
              "      <td>1</td>\n",
              "      <td>0</td>\n",
              "    </tr>\n",
              "    <tr>\n",
              "      <th>1068</th>\n",
              "      <td>4003731</td>\n",
              "      <td>1</td>\n",
              "      <td>0</td>\n",
              "    </tr>\n",
              "  </tbody>\n",
              "</table>\n",
              "<p>1069 rows × 3 columns</p>\n",
              "</div>"
            ],
            "text/plain": [
              "      material  qtd_pedido  qtd_estoque\n",
              "0      4003232         120           12\n",
              "1      4005091          60            6\n",
              "2      4003225          51            5\n",
              "3      4003251          60            6\n",
              "4      4001716          20            2\n",
              "...        ...         ...          ...\n",
              "1064   4000333           1            0\n",
              "1065   4003698           1            0\n",
              "1066   4000359           1            0\n",
              "1067   4005114           1            0\n",
              "1068   4003731           1            0\n",
              "\n",
              "[1069 rows x 3 columns]"
            ]
          },
          "metadata": {
            "tags": []
          },
          "execution_count": 27
        }
      ]
    },
    {
      "cell_type": "code",
      "metadata": {
        "id": "S6xnJeAFZSJv",
        "colab_type": "code",
        "outputId": "7099a18e-f947-40d2-c0eb-0bdf9237a9c6",
        "colab": {
          "base_uri": "https://localhost:8080/",
          "height": 85
        }
      },
      "source": [
        "df_pedidos.dtypes"
      ],
      "execution_count": 0,
      "outputs": [
        {
          "output_type": "execute_result",
          "data": {
            "text/plain": [
              "material       int64\n",
              "qtd_pedido     int64\n",
              "qtd_estoque    int64\n",
              "dtype: object"
            ]
          },
          "metadata": {
            "tags": []
          },
          "execution_count": 28
        }
      ]
    },
    {
      "cell_type": "markdown",
      "metadata": {
        "id": "9DvnFJ9aaHWr",
        "colab_type": "text"
      },
      "source": [
        "## Concatenação de Tabelas"
      ]
    },
    {
      "cell_type": "markdown",
      "metadata": {
        "id": "KGQoQptdafWc",
        "colab_type": "text"
      },
      "source": [
        "pd.concat(**lista**)"
      ]
    },
    {
      "cell_type": "code",
      "metadata": {
        "id": "ycRsxkAfbXZp",
        "colab_type": "code",
        "outputId": "f4cbac46-5cdf-4c20-d84b-e22fd325b950",
        "colab": {
          "base_uri": "https://localhost:8080/",
          "height": 34
        }
      },
      "source": [
        "df_vendas1.shape"
      ],
      "execution_count": 0,
      "outputs": [
        {
          "output_type": "execute_result",
          "data": {
            "text/plain": [
              "(8657, 2)"
            ]
          },
          "metadata": {
            "tags": []
          },
          "execution_count": 29
        }
      ]
    },
    {
      "cell_type": "markdown",
      "metadata": {
        "id": "QJmMTKvLa1KV",
        "colab_type": "text"
      },
      "source": [
        "1. lista = [lista de dataframes]"
      ]
    },
    {
      "cell_type": "code",
      "metadata": {
        "id": "Yho-Nq1QZcdx",
        "colab_type": "code",
        "colab": {}
      },
      "source": [
        "df_vendas = pd.concat([df_vendas1, df_vendas2])"
      ],
      "execution_count": 0,
      "outputs": []
    },
    {
      "cell_type": "markdown",
      "metadata": {
        "id": "Oz7UbZA8cNsm",
        "colab_type": "text"
      },
      "source": [
        "### Resetando o Index"
      ]
    },
    {
      "cell_type": "markdown",
      "metadata": {
        "id": "wi_MjtDXcTAd",
        "colab_type": "text"
      },
      "source": [
        "dataframe.reset_index(drop = bool)"
      ]
    },
    {
      "cell_type": "markdown",
      "metadata": {
        "id": "OFULcRS_ckQu",
        "colab_type": "text"
      },
      "source": [
        "1. True ou False"
      ]
    },
    {
      "cell_type": "code",
      "metadata": {
        "id": "uPoYZhVVbD6d",
        "colab_type": "code",
        "colab": {}
      },
      "source": [
        "df_vendas = df_vendas.reset_index(drop = True)"
      ],
      "execution_count": 0,
      "outputs": []
    },
    {
      "cell_type": "code",
      "metadata": {
        "id": "9wNMGKmObPSH",
        "colab_type": "code",
        "outputId": "3c2c5415-e479-4c0f-8833-755a7728d3c2",
        "colab": {
          "base_uri": "https://localhost:8080/",
          "height": 419
        }
      },
      "source": [
        "df_vendas"
      ],
      "execution_count": 0,
      "outputs": [
        {
          "output_type": "execute_result",
          "data": {
            "text/html": [
              "<div>\n",
              "<style scoped>\n",
              "    .dataframe tbody tr th:only-of-type {\n",
              "        vertical-align: middle;\n",
              "    }\n",
              "\n",
              "    .dataframe tbody tr th {\n",
              "        vertical-align: top;\n",
              "    }\n",
              "\n",
              "    .dataframe thead th {\n",
              "        text-align: right;\n",
              "    }\n",
              "</style>\n",
              "<table border=\"1\" class=\"dataframe\">\n",
              "  <thead>\n",
              "    <tr style=\"text-align: right;\">\n",
              "      <th></th>\n",
              "      <th>material</th>\n",
              "      <th>qtd_vendas</th>\n",
              "    </tr>\n",
              "  </thead>\n",
              "  <tbody>\n",
              "    <tr>\n",
              "      <th>0</th>\n",
              "      <td>6000110</td>\n",
              "      <td>1</td>\n",
              "    </tr>\n",
              "    <tr>\n",
              "      <th>1</th>\n",
              "      <td>6000129</td>\n",
              "      <td>1</td>\n",
              "    </tr>\n",
              "    <tr>\n",
              "      <th>2</th>\n",
              "      <td>6000163</td>\n",
              "      <td>1</td>\n",
              "    </tr>\n",
              "    <tr>\n",
              "      <th>3</th>\n",
              "      <td>6000172</td>\n",
              "      <td>1</td>\n",
              "    </tr>\n",
              "    <tr>\n",
              "      <th>4</th>\n",
              "      <td>6000892</td>\n",
              "      <td>1</td>\n",
              "    </tr>\n",
              "    <tr>\n",
              "      <th>...</th>\n",
              "      <td>...</td>\n",
              "      <td>...</td>\n",
              "    </tr>\n",
              "    <tr>\n",
              "      <th>16796</th>\n",
              "      <td>6000768</td>\n",
              "      <td>1</td>\n",
              "    </tr>\n",
              "    <tr>\n",
              "      <th>16797</th>\n",
              "      <td>6000839</td>\n",
              "      <td>1</td>\n",
              "    </tr>\n",
              "    <tr>\n",
              "      <th>16798</th>\n",
              "      <td>6000843</td>\n",
              "      <td>1</td>\n",
              "    </tr>\n",
              "    <tr>\n",
              "      <th>16799</th>\n",
              "      <td>6000969</td>\n",
              "      <td>1</td>\n",
              "    </tr>\n",
              "    <tr>\n",
              "      <th>16800</th>\n",
              "      <td>6000400</td>\n",
              "      <td>1</td>\n",
              "    </tr>\n",
              "  </tbody>\n",
              "</table>\n",
              "<p>16801 rows × 2 columns</p>\n",
              "</div>"
            ],
            "text/plain": [
              "       material  qtd_vendas\n",
              "0       6000110           1\n",
              "1       6000129           1\n",
              "2       6000163           1\n",
              "3       6000172           1\n",
              "4       6000892           1\n",
              "...         ...         ...\n",
              "16796   6000768           1\n",
              "16797   6000839           1\n",
              "16798   6000843           1\n",
              "16799   6000969           1\n",
              "16800   6000400           1\n",
              "\n",
              "[16801 rows x 2 columns]"
            ]
          },
          "metadata": {
            "tags": []
          },
          "execution_count": 32
        }
      ]
    },
    {
      "cell_type": "markdown",
      "metadata": {
        "id": "9Jl6ZnUKd3iV",
        "colab_type": "text"
      },
      "source": [
        "## Agrupando Dados"
      ]
    },
    {
      "cell_type": "markdown",
      "metadata": {
        "id": "KvNSIHMYd8XA",
        "colab_type": "text"
      },
      "source": [
        "dataframe.groupby(**lista**).agg(**dict**).reset_index()"
      ]
    },
    {
      "cell_type": "markdown",
      "metadata": {
        "id": "imcEt1sOePJa",
        "colab_type": "text"
      },
      "source": [
        "1. lista = ['colunas a serem agrupadas]\n",
        "2. dict = {'coluna_x':'função'}"
      ]
    },
    {
      "cell_type": "code",
      "metadata": {
        "id": "A_iYqIfZeKtz",
        "colab_type": "code",
        "colab": {}
      },
      "source": [
        "df_vendas = df_vendas.groupby(['material']).agg({'qtd_vendas':'sum'}).reset_index(drop = False)"
      ],
      "execution_count": 0,
      "outputs": []
    },
    {
      "cell_type": "code",
      "metadata": {
        "id": "NsK_nSisgGEn",
        "colab_type": "code",
        "outputId": "4d88c386-1c4f-46ab-c617-ccffe9712c5d",
        "colab": {
          "base_uri": "https://localhost:8080/",
          "height": 419
        }
      },
      "source": [
        "df_vendas"
      ],
      "execution_count": 0,
      "outputs": [
        {
          "output_type": "execute_result",
          "data": {
            "text/html": [
              "<div>\n",
              "<style scoped>\n",
              "    .dataframe tbody tr th:only-of-type {\n",
              "        vertical-align: middle;\n",
              "    }\n",
              "\n",
              "    .dataframe tbody tr th {\n",
              "        vertical-align: top;\n",
              "    }\n",
              "\n",
              "    .dataframe thead th {\n",
              "        text-align: right;\n",
              "    }\n",
              "</style>\n",
              "<table border=\"1\" class=\"dataframe\">\n",
              "  <thead>\n",
              "    <tr style=\"text-align: right;\">\n",
              "      <th></th>\n",
              "      <th>material</th>\n",
              "      <th>qtd_vendas</th>\n",
              "    </tr>\n",
              "  </thead>\n",
              "  <tbody>\n",
              "    <tr>\n",
              "      <th>0</th>\n",
              "      <td>4000013</td>\n",
              "      <td>6</td>\n",
              "    </tr>\n",
              "    <tr>\n",
              "      <th>1</th>\n",
              "      <td>4000014</td>\n",
              "      <td>1</td>\n",
              "    </tr>\n",
              "    <tr>\n",
              "      <th>2</th>\n",
              "      <td>4000015</td>\n",
              "      <td>8</td>\n",
              "    </tr>\n",
              "    <tr>\n",
              "      <th>3</th>\n",
              "      <td>4000016</td>\n",
              "      <td>3</td>\n",
              "    </tr>\n",
              "    <tr>\n",
              "      <th>4</th>\n",
              "      <td>4000017</td>\n",
              "      <td>6</td>\n",
              "    </tr>\n",
              "    <tr>\n",
              "      <th>...</th>\n",
              "      <td>...</td>\n",
              "      <td>...</td>\n",
              "    </tr>\n",
              "    <tr>\n",
              "      <th>2937</th>\n",
              "      <td>6001403</td>\n",
              "      <td>8</td>\n",
              "    </tr>\n",
              "    <tr>\n",
              "      <th>2938</th>\n",
              "      <td>6001404</td>\n",
              "      <td>3</td>\n",
              "    </tr>\n",
              "    <tr>\n",
              "      <th>2939</th>\n",
              "      <td>6001405</td>\n",
              "      <td>4</td>\n",
              "    </tr>\n",
              "    <tr>\n",
              "      <th>2940</th>\n",
              "      <td>6001409</td>\n",
              "      <td>2</td>\n",
              "    </tr>\n",
              "    <tr>\n",
              "      <th>2941</th>\n",
              "      <td>6001415</td>\n",
              "      <td>14</td>\n",
              "    </tr>\n",
              "  </tbody>\n",
              "</table>\n",
              "<p>2942 rows × 2 columns</p>\n",
              "</div>"
            ],
            "text/plain": [
              "      material  qtd_vendas\n",
              "0      4000013           6\n",
              "1      4000014           1\n",
              "2      4000015           8\n",
              "3      4000016           3\n",
              "4      4000017           6\n",
              "...        ...         ...\n",
              "2937   6001403           8\n",
              "2938   6001404           3\n",
              "2939   6001405           4\n",
              "2940   6001409           2\n",
              "2941   6001415          14\n",
              "\n",
              "[2942 rows x 2 columns]"
            ]
          },
          "metadata": {
            "tags": []
          },
          "execution_count": 34
        }
      ]
    },
    {
      "cell_type": "code",
      "metadata": {
        "id": "f1VPdMOMhd31",
        "colab_type": "code",
        "colab": {}
      },
      "source": [
        "df_pedidos = df_pedidos.groupby(['material']).agg({'qtd_pedido':'sum','qtd_estoque':'sum'}).reset_index(drop = False)"
      ],
      "execution_count": 0,
      "outputs": []
    },
    {
      "cell_type": "code",
      "metadata": {
        "id": "Fo_AuLKIiXBD",
        "colab_type": "code",
        "outputId": "40972096-0e1f-44ba-e0e9-64a9675d4356",
        "colab": {
          "base_uri": "https://localhost:8080/",
          "height": 419
        }
      },
      "source": [
        "df_pedidos"
      ],
      "execution_count": 0,
      "outputs": [
        {
          "output_type": "execute_result",
          "data": {
            "text/html": [
              "<div>\n",
              "<style scoped>\n",
              "    .dataframe tbody tr th:only-of-type {\n",
              "        vertical-align: middle;\n",
              "    }\n",
              "\n",
              "    .dataframe tbody tr th {\n",
              "        vertical-align: top;\n",
              "    }\n",
              "\n",
              "    .dataframe thead th {\n",
              "        text-align: right;\n",
              "    }\n",
              "</style>\n",
              "<table border=\"1\" class=\"dataframe\">\n",
              "  <thead>\n",
              "    <tr style=\"text-align: right;\">\n",
              "      <th></th>\n",
              "      <th>material</th>\n",
              "      <th>qtd_pedido</th>\n",
              "      <th>qtd_estoque</th>\n",
              "    </tr>\n",
              "  </thead>\n",
              "  <tbody>\n",
              "    <tr>\n",
              "      <th>0</th>\n",
              "      <td>4000010</td>\n",
              "      <td>250</td>\n",
              "      <td>25</td>\n",
              "    </tr>\n",
              "    <tr>\n",
              "      <th>1</th>\n",
              "      <td>4000014</td>\n",
              "      <td>60</td>\n",
              "      <td>6</td>\n",
              "    </tr>\n",
              "    <tr>\n",
              "      <th>2</th>\n",
              "      <td>4000019</td>\n",
              "      <td>7</td>\n",
              "      <td>0</td>\n",
              "    </tr>\n",
              "    <tr>\n",
              "      <th>3</th>\n",
              "      <td>4000020</td>\n",
              "      <td>9</td>\n",
              "      <td>0</td>\n",
              "    </tr>\n",
              "    <tr>\n",
              "      <th>4</th>\n",
              "      <td>4000047</td>\n",
              "      <td>50</td>\n",
              "      <td>5</td>\n",
              "    </tr>\n",
              "    <tr>\n",
              "      <th>...</th>\n",
              "      <td>...</td>\n",
              "      <td>...</td>\n",
              "      <td>...</td>\n",
              "    </tr>\n",
              "    <tr>\n",
              "      <th>938</th>\n",
              "      <td>6001069</td>\n",
              "      <td>12</td>\n",
              "      <td>1</td>\n",
              "    </tr>\n",
              "    <tr>\n",
              "      <th>939</th>\n",
              "      <td>6001074</td>\n",
              "      <td>42</td>\n",
              "      <td>4</td>\n",
              "    </tr>\n",
              "    <tr>\n",
              "      <th>940</th>\n",
              "      <td>6001075</td>\n",
              "      <td>2</td>\n",
              "      <td>0</td>\n",
              "    </tr>\n",
              "    <tr>\n",
              "      <th>941</th>\n",
              "      <td>6001078</td>\n",
              "      <td>16</td>\n",
              "      <td>1</td>\n",
              "    </tr>\n",
              "    <tr>\n",
              "      <th>942</th>\n",
              "      <td>6001415</td>\n",
              "      <td>4</td>\n",
              "      <td>0</td>\n",
              "    </tr>\n",
              "  </tbody>\n",
              "</table>\n",
              "<p>943 rows × 3 columns</p>\n",
              "</div>"
            ],
            "text/plain": [
              "     material  qtd_pedido  qtd_estoque\n",
              "0     4000010         250           25\n",
              "1     4000014          60            6\n",
              "2     4000019           7            0\n",
              "3     4000020           9            0\n",
              "4     4000047          50            5\n",
              "..        ...         ...          ...\n",
              "938   6001069          12            1\n",
              "939   6001074          42            4\n",
              "940   6001075           2            0\n",
              "941   6001078          16            1\n",
              "942   6001415           4            0\n",
              "\n",
              "[943 rows x 3 columns]"
            ]
          },
          "metadata": {
            "tags": []
          },
          "execution_count": 36
        }
      ]
    },
    {
      "cell_type": "markdown",
      "metadata": {
        "id": "JvIEDuNCEEI3",
        "colab_type": "text"
      },
      "source": [
        "Correlação de Tabelas"
      ]
    },
    {
      "cell_type": "code",
      "metadata": {
        "id": "tZyONehTiyOa",
        "colab_type": "code",
        "colab": {
          "base_uri": "https://localhost:8080/",
          "height": 111
        },
        "outputId": "618dd191-e4fe-406a-e78a-680e92038ab9"
      },
      "source": [
        "df_materiais.head(2)"
      ],
      "execution_count": 40,
      "outputs": [
        {
          "output_type": "execute_result",
          "data": {
            "text/html": [
              "<div>\n",
              "<style scoped>\n",
              "    .dataframe tbody tr th:only-of-type {\n",
              "        vertical-align: middle;\n",
              "    }\n",
              "\n",
              "    .dataframe tbody tr th {\n",
              "        vertical-align: top;\n",
              "    }\n",
              "\n",
              "    .dataframe thead th {\n",
              "        text-align: right;\n",
              "    }\n",
              "</style>\n",
              "<table border=\"1\" class=\"dataframe\">\n",
              "  <thead>\n",
              "    <tr style=\"text-align: right;\">\n",
              "      <th></th>\n",
              "      <th>material</th>\n",
              "    </tr>\n",
              "  </thead>\n",
              "  <tbody>\n",
              "    <tr>\n",
              "      <th>0</th>\n",
              "      <td>4000010</td>\n",
              "    </tr>\n",
              "    <tr>\n",
              "      <th>1</th>\n",
              "      <td>4000013</td>\n",
              "    </tr>\n",
              "  </tbody>\n",
              "</table>\n",
              "</div>"
            ],
            "text/plain": [
              "   material\n",
              "0   4000010\n",
              "1   4000013"
            ]
          },
          "metadata": {
            "tags": []
          },
          "execution_count": 40
        }
      ]
    },
    {
      "cell_type": "code",
      "metadata": {
        "id": "uJjD-iMzEMB9",
        "colab_type": "code",
        "colab": {
          "base_uri": "https://localhost:8080/",
          "height": 111
        },
        "outputId": "f435622a-1fad-4f3d-e146-b336b03a136b"
      },
      "source": [
        "df_pedidos.head(2)"
      ],
      "execution_count": 41,
      "outputs": [
        {
          "output_type": "execute_result",
          "data": {
            "text/html": [
              "<div>\n",
              "<style scoped>\n",
              "    .dataframe tbody tr th:only-of-type {\n",
              "        vertical-align: middle;\n",
              "    }\n",
              "\n",
              "    .dataframe tbody tr th {\n",
              "        vertical-align: top;\n",
              "    }\n",
              "\n",
              "    .dataframe thead th {\n",
              "        text-align: right;\n",
              "    }\n",
              "</style>\n",
              "<table border=\"1\" class=\"dataframe\">\n",
              "  <thead>\n",
              "    <tr style=\"text-align: right;\">\n",
              "      <th></th>\n",
              "      <th>material</th>\n",
              "      <th>qtd_pedido</th>\n",
              "      <th>qtd_estoque</th>\n",
              "    </tr>\n",
              "  </thead>\n",
              "  <tbody>\n",
              "    <tr>\n",
              "      <th>0</th>\n",
              "      <td>4000010</td>\n",
              "      <td>250</td>\n",
              "      <td>25</td>\n",
              "    </tr>\n",
              "    <tr>\n",
              "      <th>1</th>\n",
              "      <td>4000014</td>\n",
              "      <td>60</td>\n",
              "      <td>6</td>\n",
              "    </tr>\n",
              "  </tbody>\n",
              "</table>\n",
              "</div>"
            ],
            "text/plain": [
              "   material  qtd_pedido  qtd_estoque\n",
              "0   4000010         250           25\n",
              "1   4000014          60            6"
            ]
          },
          "metadata": {
            "tags": []
          },
          "execution_count": 41
        }
      ]
    },
    {
      "cell_type": "code",
      "metadata": {
        "id": "N5KtzpsyEQfo",
        "colab_type": "code",
        "colab": {
          "base_uri": "https://localhost:8080/",
          "height": 111
        },
        "outputId": "ef148564-583c-4717-f994-bee2c9ad31c9"
      },
      "source": [
        "df_vendas.head(2)"
      ],
      "execution_count": 43,
      "outputs": [
        {
          "output_type": "execute_result",
          "data": {
            "text/html": [
              "<div>\n",
              "<style scoped>\n",
              "    .dataframe tbody tr th:only-of-type {\n",
              "        vertical-align: middle;\n",
              "    }\n",
              "\n",
              "    .dataframe tbody tr th {\n",
              "        vertical-align: top;\n",
              "    }\n",
              "\n",
              "    .dataframe thead th {\n",
              "        text-align: right;\n",
              "    }\n",
              "</style>\n",
              "<table border=\"1\" class=\"dataframe\">\n",
              "  <thead>\n",
              "    <tr style=\"text-align: right;\">\n",
              "      <th></th>\n",
              "      <th>material</th>\n",
              "      <th>qtd_vendas</th>\n",
              "    </tr>\n",
              "  </thead>\n",
              "  <tbody>\n",
              "    <tr>\n",
              "      <th>0</th>\n",
              "      <td>4000013</td>\n",
              "      <td>6</td>\n",
              "    </tr>\n",
              "    <tr>\n",
              "      <th>1</th>\n",
              "      <td>4000014</td>\n",
              "      <td>1</td>\n",
              "    </tr>\n",
              "  </tbody>\n",
              "</table>\n",
              "</div>"
            ],
            "text/plain": [
              "   material  qtd_vendas\n",
              "0   4000013           6\n",
              "1   4000014           1"
            ]
          },
          "metadata": {
            "tags": []
          },
          "execution_count": 43
        }
      ]
    },
    {
      "cell_type": "markdown",
      "metadata": {
        "id": "AUDCZ897FLqa",
        "colab_type": "text"
      },
      "source": [
        "pd.merge(**dataframe1**, **dataframe2**, on = **lista**, how = **string específica)"
      ]
    },
    {
      "cell_type": "markdown",
      "metadata": {
        "id": "LSZiA1WhFpda",
        "colab_type": "text"
      },
      "source": [
        "1. Tabela da esquerda\n",
        "2. Tabela da direita\n",
        "3. lista = ['colunas em comum']\n",
        "4. how = método da correlação: 'left' (esquerda), 'right' (direita), 'inner' (ponto em comum), 'outer' (tudo)"
      ]
    },
    {
      "cell_type": "code",
      "metadata": {
        "id": "gajvsQHMES6Y",
        "colab_type": "code",
        "colab": {}
      },
      "source": [
        "df_relatorio = pd.merge(df_materiais, df_pedidos, on = ['material'], how = 'left')"
      ],
      "execution_count": 0,
      "outputs": []
    },
    {
      "cell_type": "code",
      "metadata": {
        "id": "6ZI4KytPKXC-",
        "colab_type": "code",
        "colab": {
          "base_uri": "https://localhost:8080/",
          "height": 419
        },
        "outputId": "0518b224-547a-44c1-95a1-f6212d9b5353"
      },
      "source": [
        "df_relatorio"
      ],
      "execution_count": 47,
      "outputs": [
        {
          "output_type": "execute_result",
          "data": {
            "text/html": [
              "<div>\n",
              "<style scoped>\n",
              "    .dataframe tbody tr th:only-of-type {\n",
              "        vertical-align: middle;\n",
              "    }\n",
              "\n",
              "    .dataframe tbody tr th {\n",
              "        vertical-align: top;\n",
              "    }\n",
              "\n",
              "    .dataframe thead th {\n",
              "        text-align: right;\n",
              "    }\n",
              "</style>\n",
              "<table border=\"1\" class=\"dataframe\">\n",
              "  <thead>\n",
              "    <tr style=\"text-align: right;\">\n",
              "      <th></th>\n",
              "      <th>material</th>\n",
              "      <th>qtd_pedido</th>\n",
              "      <th>qtd_estoque</th>\n",
              "    </tr>\n",
              "  </thead>\n",
              "  <tbody>\n",
              "    <tr>\n",
              "      <th>0</th>\n",
              "      <td>4000010</td>\n",
              "      <td>250.0</td>\n",
              "      <td>25.0</td>\n",
              "    </tr>\n",
              "    <tr>\n",
              "      <th>1</th>\n",
              "      <td>4000013</td>\n",
              "      <td>NaN</td>\n",
              "      <td>NaN</td>\n",
              "    </tr>\n",
              "    <tr>\n",
              "      <th>2</th>\n",
              "      <td>4000014</td>\n",
              "      <td>60.0</td>\n",
              "      <td>6.0</td>\n",
              "    </tr>\n",
              "    <tr>\n",
              "      <th>3</th>\n",
              "      <td>4000015</td>\n",
              "      <td>NaN</td>\n",
              "      <td>NaN</td>\n",
              "    </tr>\n",
              "    <tr>\n",
              "      <th>4</th>\n",
              "      <td>4000016</td>\n",
              "      <td>NaN</td>\n",
              "      <td>NaN</td>\n",
              "    </tr>\n",
              "    <tr>\n",
              "      <th>...</th>\n",
              "      <td>...</td>\n",
              "      <td>...</td>\n",
              "      <td>...</td>\n",
              "    </tr>\n",
              "    <tr>\n",
              "      <th>4577</th>\n",
              "      <td>6001409</td>\n",
              "      <td>NaN</td>\n",
              "      <td>NaN</td>\n",
              "    </tr>\n",
              "    <tr>\n",
              "      <th>4578</th>\n",
              "      <td>6001410</td>\n",
              "      <td>NaN</td>\n",
              "      <td>NaN</td>\n",
              "    </tr>\n",
              "    <tr>\n",
              "      <th>4579</th>\n",
              "      <td>6001411</td>\n",
              "      <td>NaN</td>\n",
              "      <td>NaN</td>\n",
              "    </tr>\n",
              "    <tr>\n",
              "      <th>4580</th>\n",
              "      <td>6001412</td>\n",
              "      <td>NaN</td>\n",
              "      <td>NaN</td>\n",
              "    </tr>\n",
              "    <tr>\n",
              "      <th>4581</th>\n",
              "      <td>6001415</td>\n",
              "      <td>4.0</td>\n",
              "      <td>0.0</td>\n",
              "    </tr>\n",
              "  </tbody>\n",
              "</table>\n",
              "<p>4582 rows × 3 columns</p>\n",
              "</div>"
            ],
            "text/plain": [
              "      material  qtd_pedido  qtd_estoque\n",
              "0      4000010       250.0         25.0\n",
              "1      4000013         NaN          NaN\n",
              "2      4000014        60.0          6.0\n",
              "3      4000015         NaN          NaN\n",
              "4      4000016         NaN          NaN\n",
              "...        ...         ...          ...\n",
              "4577   6001409         NaN          NaN\n",
              "4578   6001410         NaN          NaN\n",
              "4579   6001411         NaN          NaN\n",
              "4580   6001412         NaN          NaN\n",
              "4581   6001415         4.0          0.0\n",
              "\n",
              "[4582 rows x 3 columns]"
            ]
          },
          "metadata": {
            "tags": []
          },
          "execution_count": 47
        }
      ]
    },
    {
      "cell_type": "code",
      "metadata": {
        "id": "9vNQaVZaTpbW",
        "colab_type": "code",
        "colab": {}
      },
      "source": [
        "df_relatorio = pd.merge(df_relatorio, df_vendas, on = ['material'], how = 'left')"
      ],
      "execution_count": 0,
      "outputs": []
    },
    {
      "cell_type": "markdown",
      "metadata": {
        "id": "08kmij8sUuS3",
        "colab_type": "text"
      },
      "source": [
        "Tratamento pós correlação"
      ]
    },
    {
      "cell_type": "markdown",
      "metadata": {
        "id": "brkkcPktU2HI",
        "colab_type": "text"
      },
      "source": [
        "dataframe.fillna(**variável**)\n",
        "\n",
        "dataframe['coluna'].fillna(**variável)\n",
        "\n",
        "1. variável = int, float, str, bool"
      ]
    },
    {
      "cell_type": "code",
      "metadata": {
        "id": "qH3uEI-4T6kD",
        "colab_type": "code",
        "colab": {}
      },
      "source": [
        "df_relatorio = df_relatorio.fillna(0)"
      ],
      "execution_count": 0,
      "outputs": []
    },
    {
      "cell_type": "code",
      "metadata": {
        "id": "v6-1JTRpUPTA",
        "colab_type": "code",
        "colab": {}
      },
      "source": [
        "df_relatorio[['qtd_pedido', 'qtd_estoque','qtd_vendas']] = df_relatorio[['qtd_pedido', 'qtd_estoque','qtd_vendas']].astype(int)"
      ],
      "execution_count": 0,
      "outputs": []
    },
    {
      "cell_type": "code",
      "metadata": {
        "id": "C8PMC8kippAy",
        "colab_type": "code",
        "colab": {
          "base_uri": "https://localhost:8080/",
          "height": 419
        },
        "outputId": "2959cfb7-8986-4618-c419-888010f7b824"
      },
      "source": [
        "df_relatorio"
      ],
      "execution_count": 57,
      "outputs": [
        {
          "output_type": "execute_result",
          "data": {
            "text/html": [
              "<div>\n",
              "<style scoped>\n",
              "    .dataframe tbody tr th:only-of-type {\n",
              "        vertical-align: middle;\n",
              "    }\n",
              "\n",
              "    .dataframe tbody tr th {\n",
              "        vertical-align: top;\n",
              "    }\n",
              "\n",
              "    .dataframe thead th {\n",
              "        text-align: right;\n",
              "    }\n",
              "</style>\n",
              "<table border=\"1\" class=\"dataframe\">\n",
              "  <thead>\n",
              "    <tr style=\"text-align: right;\">\n",
              "      <th></th>\n",
              "      <th>material</th>\n",
              "      <th>qtd_pedido</th>\n",
              "      <th>qtd_estoque</th>\n",
              "      <th>qtd_vendas</th>\n",
              "    </tr>\n",
              "  </thead>\n",
              "  <tbody>\n",
              "    <tr>\n",
              "      <th>0</th>\n",
              "      <td>4000010</td>\n",
              "      <td>250</td>\n",
              "      <td>25</td>\n",
              "      <td>0</td>\n",
              "    </tr>\n",
              "    <tr>\n",
              "      <th>1</th>\n",
              "      <td>4000013</td>\n",
              "      <td>0</td>\n",
              "      <td>0</td>\n",
              "      <td>6</td>\n",
              "    </tr>\n",
              "    <tr>\n",
              "      <th>2</th>\n",
              "      <td>4000014</td>\n",
              "      <td>60</td>\n",
              "      <td>6</td>\n",
              "      <td>1</td>\n",
              "    </tr>\n",
              "    <tr>\n",
              "      <th>3</th>\n",
              "      <td>4000015</td>\n",
              "      <td>0</td>\n",
              "      <td>0</td>\n",
              "      <td>8</td>\n",
              "    </tr>\n",
              "    <tr>\n",
              "      <th>4</th>\n",
              "      <td>4000016</td>\n",
              "      <td>0</td>\n",
              "      <td>0</td>\n",
              "      <td>3</td>\n",
              "    </tr>\n",
              "    <tr>\n",
              "      <th>...</th>\n",
              "      <td>...</td>\n",
              "      <td>...</td>\n",
              "      <td>...</td>\n",
              "      <td>...</td>\n",
              "    </tr>\n",
              "    <tr>\n",
              "      <th>4577</th>\n",
              "      <td>6001409</td>\n",
              "      <td>0</td>\n",
              "      <td>0</td>\n",
              "      <td>2</td>\n",
              "    </tr>\n",
              "    <tr>\n",
              "      <th>4578</th>\n",
              "      <td>6001410</td>\n",
              "      <td>0</td>\n",
              "      <td>0</td>\n",
              "      <td>0</td>\n",
              "    </tr>\n",
              "    <tr>\n",
              "      <th>4579</th>\n",
              "      <td>6001411</td>\n",
              "      <td>0</td>\n",
              "      <td>0</td>\n",
              "      <td>0</td>\n",
              "    </tr>\n",
              "    <tr>\n",
              "      <th>4580</th>\n",
              "      <td>6001412</td>\n",
              "      <td>0</td>\n",
              "      <td>0</td>\n",
              "      <td>0</td>\n",
              "    </tr>\n",
              "    <tr>\n",
              "      <th>4581</th>\n",
              "      <td>6001415</td>\n",
              "      <td>4</td>\n",
              "      <td>0</td>\n",
              "      <td>14</td>\n",
              "    </tr>\n",
              "  </tbody>\n",
              "</table>\n",
              "<p>4582 rows × 4 columns</p>\n",
              "</div>"
            ],
            "text/plain": [
              "      material  qtd_pedido  qtd_estoque  qtd_vendas\n",
              "0      4000010         250           25           0\n",
              "1      4000013           0            0           6\n",
              "2      4000014          60            6           1\n",
              "3      4000015           0            0           8\n",
              "4      4000016           0            0           3\n",
              "...        ...         ...          ...         ...\n",
              "4577   6001409           0            0           2\n",
              "4578   6001410           0            0           0\n",
              "4579   6001411           0            0           0\n",
              "4580   6001412           0            0           0\n",
              "4581   6001415           4            0          14\n",
              "\n",
              "[4582 rows x 4 columns]"
            ]
          },
          "metadata": {
            "tags": []
          },
          "execution_count": 57
        }
      ]
    },
    {
      "cell_type": "markdown",
      "metadata": {
        "id": "Q0PMQevaqwOp",
        "colab_type": "text"
      },
      "source": [
        "# Regra de Negócio"
      ]
    },
    {
      "cell_type": "code",
      "metadata": {
        "id": "r4T04f3yJGIA",
        "colab_type": "code",
        "colab": {}
      },
      "source": [
        "print('Gerando Relatório..')"
      ],
      "execution_count": 0,
      "outputs": []
    },
    {
      "cell_type": "markdown",
      "metadata": {
        "id": "nHhpxPaorP-j",
        "colab_type": "text"
      },
      "source": [
        "## Operações entre colunas sem condicional"
      ]
    },
    {
      "cell_type": "markdown",
      "metadata": {
        "id": "jRncmjxVrbrT",
        "colab_type": "text"
      },
      "source": [
        "dataframe['coluna_x'] **operador** dataframe['coluna_y']\n",
        "\n",
        "1. operador: todos os operandos"
      ]
    },
    {
      "cell_type": "code",
      "metadata": {
        "id": "Pv2E3gafqa-j",
        "colab_type": "code",
        "colab": {}
      },
      "source": [
        "df_relatorio['qtd_loja'] = df_relatorio['qtd_pedido'] + df_relatorio['qtd_estoque']"
      ],
      "execution_count": 0,
      "outputs": []
    },
    {
      "cell_type": "code",
      "metadata": {
        "id": "sPTgs6n1sGuV",
        "colab_type": "code",
        "colab": {}
      },
      "source": [
        "df_relatorio = df_relatorio[['material', 'qtd_loja', 'qtd_vendas']].copy()"
      ],
      "execution_count": 0,
      "outputs": []
    },
    {
      "cell_type": "markdown",
      "metadata": {
        "id": "5CzRVVC4uBTY",
        "colab_type": "text"
      },
      "source": [
        "# Operações entre colunas com condicional"
      ]
    },
    {
      "cell_type": "markdown",
      "metadata": {
        "id": "r1vKKaiRuWIp",
        "colab_type": "text"
      },
      "source": [
        "def funcao(parametro):\n"
      ]
    },
    {
      "cell_type": "markdown",
      "metadata": {
        "id": "qKLGtUWzvbWO",
        "colab_type": "text"
      },
      "source": [
        "dataframe.apply(lambda row: funcao(row['coluna']), axis = **columns** ou 1)"
      ]
    },
    {
      "cell_type": "code",
      "metadata": {
        "id": "DOfLONLPsY3W",
        "colab_type": "code",
        "colab": {}
      },
      "source": [
        "def calular_porcentagem(loja, vendas):\n",
        "  if (vendas != 0):\n",
        "    return round(loja/vendas, 2)\n",
        "  elif(loja != 0):\n",
        "    return 1.2\n",
        "  else:\n",
        "    return 0"
      ],
      "execution_count": 0,
      "outputs": []
    },
    {
      "cell_type": "code",
      "metadata": {
        "id": "saAK39TotMrP",
        "colab_type": "code",
        "colab": {}
      },
      "source": [
        "df_relatorio['porcentagem'] = df_relatorio.apply(lambda row: calular_porcentagem(row['qtd_loja'], row['qtd_vendas']), axis = 'columns')"
      ],
      "execution_count": 0,
      "outputs": []
    },
    {
      "cell_type": "code",
      "metadata": {
        "id": "ce7q8YUfybJ2",
        "colab_type": "code",
        "colab": {}
      },
      "source": [
        "def definir_status(porcentagem):\n",
        "  if (porcentagem >= 1.2):\n",
        "    return 'alerta'\n",
        "  else:\n",
        "    return ' '"
      ],
      "execution_count": 0,
      "outputs": []
    },
    {
      "cell_type": "code",
      "metadata": {
        "id": "zhfaX4l7zEQ4",
        "colab_type": "code",
        "colab": {}
      },
      "source": [
        "df_relatorio['status'] = df_relatorio.apply(lambda row: definir_status(row['porcentagem']),axis= 'columns')"
      ],
      "execution_count": 0,
      "outputs": []
    },
    {
      "cell_type": "code",
      "metadata": {
        "id": "k8oIO9wb0pOI",
        "colab_type": "code",
        "colab": {
          "base_uri": "https://localhost:8080/",
          "height": 419
        },
        "outputId": "899819fc-6da5-43f5-b230-f700b26634d9"
      },
      "source": [
        "df_relatorio"
      ],
      "execution_count": 77,
      "outputs": [
        {
          "output_type": "execute_result",
          "data": {
            "text/html": [
              "<div>\n",
              "<style scoped>\n",
              "    .dataframe tbody tr th:only-of-type {\n",
              "        vertical-align: middle;\n",
              "    }\n",
              "\n",
              "    .dataframe tbody tr th {\n",
              "        vertical-align: top;\n",
              "    }\n",
              "\n",
              "    .dataframe thead th {\n",
              "        text-align: right;\n",
              "    }\n",
              "</style>\n",
              "<table border=\"1\" class=\"dataframe\">\n",
              "  <thead>\n",
              "    <tr style=\"text-align: right;\">\n",
              "      <th></th>\n",
              "      <th>material</th>\n",
              "      <th>qtd_loja</th>\n",
              "      <th>qtd_vendas</th>\n",
              "      <th>porcentagem</th>\n",
              "      <th>status</th>\n",
              "    </tr>\n",
              "  </thead>\n",
              "  <tbody>\n",
              "    <tr>\n",
              "      <th>0</th>\n",
              "      <td>4000010</td>\n",
              "      <td>275</td>\n",
              "      <td>0</td>\n",
              "      <td>1.20</td>\n",
              "      <td>alerta</td>\n",
              "    </tr>\n",
              "    <tr>\n",
              "      <th>1</th>\n",
              "      <td>4000013</td>\n",
              "      <td>0</td>\n",
              "      <td>6</td>\n",
              "      <td>0.00</td>\n",
              "      <td></td>\n",
              "    </tr>\n",
              "    <tr>\n",
              "      <th>2</th>\n",
              "      <td>4000014</td>\n",
              "      <td>66</td>\n",
              "      <td>1</td>\n",
              "      <td>66.00</td>\n",
              "      <td>alerta</td>\n",
              "    </tr>\n",
              "    <tr>\n",
              "      <th>3</th>\n",
              "      <td>4000015</td>\n",
              "      <td>0</td>\n",
              "      <td>8</td>\n",
              "      <td>0.00</td>\n",
              "      <td></td>\n",
              "    </tr>\n",
              "    <tr>\n",
              "      <th>4</th>\n",
              "      <td>4000016</td>\n",
              "      <td>0</td>\n",
              "      <td>3</td>\n",
              "      <td>0.00</td>\n",
              "      <td></td>\n",
              "    </tr>\n",
              "    <tr>\n",
              "      <th>...</th>\n",
              "      <td>...</td>\n",
              "      <td>...</td>\n",
              "      <td>...</td>\n",
              "      <td>...</td>\n",
              "      <td>...</td>\n",
              "    </tr>\n",
              "    <tr>\n",
              "      <th>4577</th>\n",
              "      <td>6001409</td>\n",
              "      <td>0</td>\n",
              "      <td>2</td>\n",
              "      <td>0.00</td>\n",
              "      <td></td>\n",
              "    </tr>\n",
              "    <tr>\n",
              "      <th>4578</th>\n",
              "      <td>6001410</td>\n",
              "      <td>0</td>\n",
              "      <td>0</td>\n",
              "      <td>0.00</td>\n",
              "      <td></td>\n",
              "    </tr>\n",
              "    <tr>\n",
              "      <th>4579</th>\n",
              "      <td>6001411</td>\n",
              "      <td>0</td>\n",
              "      <td>0</td>\n",
              "      <td>0.00</td>\n",
              "      <td></td>\n",
              "    </tr>\n",
              "    <tr>\n",
              "      <th>4580</th>\n",
              "      <td>6001412</td>\n",
              "      <td>0</td>\n",
              "      <td>0</td>\n",
              "      <td>0.00</td>\n",
              "      <td></td>\n",
              "    </tr>\n",
              "    <tr>\n",
              "      <th>4581</th>\n",
              "      <td>6001415</td>\n",
              "      <td>4</td>\n",
              "      <td>14</td>\n",
              "      <td>0.29</td>\n",
              "      <td></td>\n",
              "    </tr>\n",
              "  </tbody>\n",
              "</table>\n",
              "<p>4582 rows × 5 columns</p>\n",
              "</div>"
            ],
            "text/plain": [
              "      material  qtd_loja  qtd_vendas  porcentagem  status\n",
              "0      4000010       275           0         1.20  alerta\n",
              "1      4000013         0           6         0.00        \n",
              "2      4000014        66           1        66.00  alerta\n",
              "3      4000015         0           8         0.00        \n",
              "4      4000016         0           3         0.00        \n",
              "...        ...       ...         ...          ...     ...\n",
              "4577   6001409         0           2         0.00        \n",
              "4578   6001410         0           0         0.00        \n",
              "4579   6001411         0           0         0.00        \n",
              "4580   6001412         0           0         0.00        \n",
              "4581   6001415         4          14         0.29        \n",
              "\n",
              "[4582 rows x 5 columns]"
            ]
          },
          "metadata": {
            "tags": []
          },
          "execution_count": 77
        }
      ]
    },
    {
      "cell_type": "markdown",
      "metadata": {
        "id": "gB0E7fH366AL",
        "colab_type": "text"
      },
      "source": [
        "# Ordenando Colunas"
      ]
    },
    {
      "cell_type": "markdown",
      "metadata": {
        "id": "4CMwe69O6-r0",
        "colab_type": "text"
      },
      "source": [
        "dataframe.sort_values(**lista**, ascending = **lista**)"
      ]
    },
    {
      "cell_type": "markdown",
      "metadata": {
        "id": "1j8tt2LR6_Gw",
        "colab_type": "text"
      },
      "source": [
        "1. lista = [colunas a serem ordenadas]\n",
        "2. lista = [booleanos]\n",
        "\n",
        "True = ordena do menor para o maior\n",
        "False = ordena do maior para o menor"
      ]
    },
    {
      "cell_type": "code",
      "metadata": {
        "id": "zjTYOUtl6buo",
        "colab_type": "code",
        "colab": {}
      },
      "source": [
        "df_relatorio = df_relatorio.sort_values(['qtd_loja'], ascending= [False])"
      ],
      "execution_count": 0,
      "outputs": []
    },
    {
      "cell_type": "code",
      "metadata": {
        "id": "-JVVOQPP73-m",
        "colab_type": "code",
        "colab": {
          "base_uri": "https://localhost:8080/",
          "height": 419
        },
        "outputId": "3ee83be0-11b9-44fa-da84-0488cd210cfe"
      },
      "source": [
        "df_relatorio"
      ],
      "execution_count": 80,
      "outputs": [
        {
          "output_type": "execute_result",
          "data": {
            "text/html": [
              "<div>\n",
              "<style scoped>\n",
              "    .dataframe tbody tr th:only-of-type {\n",
              "        vertical-align: middle;\n",
              "    }\n",
              "\n",
              "    .dataframe tbody tr th {\n",
              "        vertical-align: top;\n",
              "    }\n",
              "\n",
              "    .dataframe thead th {\n",
              "        text-align: right;\n",
              "    }\n",
              "</style>\n",
              "<table border=\"1\" class=\"dataframe\">\n",
              "  <thead>\n",
              "    <tr style=\"text-align: right;\">\n",
              "      <th></th>\n",
              "      <th>material</th>\n",
              "      <th>qtd_loja</th>\n",
              "      <th>qtd_vendas</th>\n",
              "      <th>porcentagem</th>\n",
              "      <th>status</th>\n",
              "    </tr>\n",
              "  </thead>\n",
              "  <tbody>\n",
              "    <tr>\n",
              "      <th>2800</th>\n",
              "      <td>4004641</td>\n",
              "      <td>525</td>\n",
              "      <td>0</td>\n",
              "      <td>1.20</td>\n",
              "      <td>alerta</td>\n",
              "    </tr>\n",
              "    <tr>\n",
              "      <th>1188</th>\n",
              "      <td>4001448</td>\n",
              "      <td>462</td>\n",
              "      <td>17</td>\n",
              "      <td>27.18</td>\n",
              "      <td>alerta</td>\n",
              "    </tr>\n",
              "    <tr>\n",
              "      <th>877</th>\n",
              "      <td>4001064</td>\n",
              "      <td>440</td>\n",
              "      <td>3</td>\n",
              "      <td>146.67</td>\n",
              "      <td>alerta</td>\n",
              "    </tr>\n",
              "    <tr>\n",
              "      <th>2929</th>\n",
              "      <td>4005270</td>\n",
              "      <td>401</td>\n",
              "      <td>1</td>\n",
              "      <td>401.00</td>\n",
              "      <td>alerta</td>\n",
              "    </tr>\n",
              "    <tr>\n",
              "      <th>3579</th>\n",
              "      <td>4006391</td>\n",
              "      <td>330</td>\n",
              "      <td>0</td>\n",
              "      <td>1.20</td>\n",
              "      <td>alerta</td>\n",
              "    </tr>\n",
              "    <tr>\n",
              "      <th>...</th>\n",
              "      <td>...</td>\n",
              "      <td>...</td>\n",
              "      <td>...</td>\n",
              "      <td>...</td>\n",
              "      <td>...</td>\n",
              "    </tr>\n",
              "    <tr>\n",
              "      <th>514</th>\n",
              "      <td>4000597</td>\n",
              "      <td>0</td>\n",
              "      <td>0</td>\n",
              "      <td>0.00</td>\n",
              "      <td></td>\n",
              "    </tr>\n",
              "    <tr>\n",
              "      <th>513</th>\n",
              "      <td>4000596</td>\n",
              "      <td>0</td>\n",
              "      <td>0</td>\n",
              "      <td>0.00</td>\n",
              "      <td></td>\n",
              "    </tr>\n",
              "    <tr>\n",
              "      <th>512</th>\n",
              "      <td>4000595</td>\n",
              "      <td>0</td>\n",
              "      <td>4</td>\n",
              "      <td>0.00</td>\n",
              "      <td></td>\n",
              "    </tr>\n",
              "    <tr>\n",
              "      <th>2142</th>\n",
              "      <td>4003005</td>\n",
              "      <td>0</td>\n",
              "      <td>0</td>\n",
              "      <td>0.00</td>\n",
              "      <td></td>\n",
              "    </tr>\n",
              "    <tr>\n",
              "      <th>2291</th>\n",
              "      <td>4003569</td>\n",
              "      <td>0</td>\n",
              "      <td>0</td>\n",
              "      <td>0.00</td>\n",
              "      <td></td>\n",
              "    </tr>\n",
              "  </tbody>\n",
              "</table>\n",
              "<p>4582 rows × 5 columns</p>\n",
              "</div>"
            ],
            "text/plain": [
              "      material  qtd_loja  qtd_vendas  porcentagem  status\n",
              "2800   4004641       525           0         1.20  alerta\n",
              "1188   4001448       462          17        27.18  alerta\n",
              "877    4001064       440           3       146.67  alerta\n",
              "2929   4005270       401           1       401.00  alerta\n",
              "3579   4006391       330           0         1.20  alerta\n",
              "...        ...       ...         ...          ...     ...\n",
              "514    4000597         0           0         0.00        \n",
              "513    4000596         0           0         0.00        \n",
              "512    4000595         0           4         0.00        \n",
              "2142   4003005         0           0         0.00        \n",
              "2291   4003569         0           0         0.00        \n",
              "\n",
              "[4582 rows x 5 columns]"
            ]
          },
          "metadata": {
            "tags": []
          },
          "execution_count": 80
        }
      ]
    },
    {
      "cell_type": "markdown",
      "metadata": {
        "id": "zBr9kiT58G7z",
        "colab_type": "text"
      },
      "source": [
        "Filtro"
      ]
    },
    {
      "cell_type": "markdown",
      "metadata": {
        "id": "qYdArlGk8XJm",
        "colab_type": "text"
      },
      "source": [
        "dataframe[(dataframe['coluna_x']>0)]\n",
        "\n",
        "and (&)\n",
        "\n",
        "or (|)\n",
        "\n",
        "not (~)"
      ]
    },
    {
      "cell_type": "code",
      "metadata": {
        "id": "WNt-daiv8ECd",
        "colab_type": "code",
        "colab": {}
      },
      "source": [
        "df_relatorio_reduzido = df_relatorio[(df_relatorio['status'] != 'alerta') & (df_relatorio['qtd_loja']>0)]"
      ],
      "execution_count": 0,
      "outputs": []
    },
    {
      "cell_type": "code",
      "metadata": {
        "id": "VFry4SVv8JjP",
        "colab_type": "code",
        "colab": {
          "base_uri": "https://localhost:8080/",
          "height": 1000
        },
        "outputId": "5460d852-0d95-4f02-e63f-fb140e742cd1"
      },
      "source": [
        "df_relatorio_reduzido"
      ],
      "execution_count": 85,
      "outputs": [
        {
          "output_type": "execute_result",
          "data": {
            "text/html": [
              "<div>\n",
              "<style scoped>\n",
              "    .dataframe tbody tr th:only-of-type {\n",
              "        vertical-align: middle;\n",
              "    }\n",
              "\n",
              "    .dataframe tbody tr th {\n",
              "        vertical-align: top;\n",
              "    }\n",
              "\n",
              "    .dataframe thead th {\n",
              "        text-align: right;\n",
              "    }\n",
              "</style>\n",
              "<table border=\"1\" class=\"dataframe\">\n",
              "  <thead>\n",
              "    <tr style=\"text-align: right;\">\n",
              "      <th></th>\n",
              "      <th>material</th>\n",
              "      <th>qtd_loja</th>\n",
              "      <th>qtd_vendas</th>\n",
              "      <th>porcentagem</th>\n",
              "      <th>status</th>\n",
              "    </tr>\n",
              "  </thead>\n",
              "  <tbody>\n",
              "    <tr>\n",
              "      <th>670</th>\n",
              "      <td>4000793</td>\n",
              "      <td>15</td>\n",
              "      <td>70</td>\n",
              "      <td>0.21</td>\n",
              "      <td></td>\n",
              "    </tr>\n",
              "    <tr>\n",
              "      <th>672</th>\n",
              "      <td>4000795</td>\n",
              "      <td>13</td>\n",
              "      <td>30</td>\n",
              "      <td>0.43</td>\n",
              "      <td></td>\n",
              "    </tr>\n",
              "    <tr>\n",
              "      <th>7</th>\n",
              "      <td>4000020</td>\n",
              "      <td>9</td>\n",
              "      <td>27</td>\n",
              "      <td>0.33</td>\n",
              "      <td></td>\n",
              "    </tr>\n",
              "    <tr>\n",
              "      <th>2619</th>\n",
              "      <td>4004124</td>\n",
              "      <td>8</td>\n",
              "      <td>21</td>\n",
              "      <td>0.38</td>\n",
              "      <td></td>\n",
              "    </tr>\n",
              "    <tr>\n",
              "      <th>6</th>\n",
              "      <td>4000019</td>\n",
              "      <td>7</td>\n",
              "      <td>151</td>\n",
              "      <td>0.05</td>\n",
              "      <td></td>\n",
              "    </tr>\n",
              "    <tr>\n",
              "      <th>4581</th>\n",
              "      <td>6001415</td>\n",
              "      <td>4</td>\n",
              "      <td>14</td>\n",
              "      <td>0.29</td>\n",
              "      <td></td>\n",
              "    </tr>\n",
              "    <tr>\n",
              "      <th>1318</th>\n",
              "      <td>4001620</td>\n",
              "      <td>3</td>\n",
              "      <td>5</td>\n",
              "      <td>0.60</td>\n",
              "      <td></td>\n",
              "    </tr>\n",
              "    <tr>\n",
              "      <th>2380</th>\n",
              "      <td>4003695</td>\n",
              "      <td>3</td>\n",
              "      <td>6</td>\n",
              "      <td>0.50</td>\n",
              "      <td></td>\n",
              "    </tr>\n",
              "    <tr>\n",
              "      <th>1902</th>\n",
              "      <td>4002553</td>\n",
              "      <td>2</td>\n",
              "      <td>13</td>\n",
              "      <td>0.15</td>\n",
              "      <td></td>\n",
              "    </tr>\n",
              "    <tr>\n",
              "      <th>299</th>\n",
              "      <td>4000360</td>\n",
              "      <td>2</td>\n",
              "      <td>2</td>\n",
              "      <td>1.00</td>\n",
              "      <td></td>\n",
              "    </tr>\n",
              "    <tr>\n",
              "      <th>381</th>\n",
              "      <td>4000446</td>\n",
              "      <td>2</td>\n",
              "      <td>45</td>\n",
              "      <td>0.04</td>\n",
              "      <td></td>\n",
              "    </tr>\n",
              "    <tr>\n",
              "      <th>4009</th>\n",
              "      <td>6000425</td>\n",
              "      <td>2</td>\n",
              "      <td>5</td>\n",
              "      <td>0.40</td>\n",
              "      <td></td>\n",
              "    </tr>\n",
              "    <tr>\n",
              "      <th>139</th>\n",
              "      <td>4000173</td>\n",
              "      <td>2</td>\n",
              "      <td>3</td>\n",
              "      <td>0.67</td>\n",
              "      <td></td>\n",
              "    </tr>\n",
              "    <tr>\n",
              "      <th>4410</th>\n",
              "      <td>6001075</td>\n",
              "      <td>2</td>\n",
              "      <td>2</td>\n",
              "      <td>1.00</td>\n",
              "      <td></td>\n",
              "    </tr>\n",
              "    <tr>\n",
              "      <th>488</th>\n",
              "      <td>4000567</td>\n",
              "      <td>1</td>\n",
              "      <td>5</td>\n",
              "      <td>0.20</td>\n",
              "      <td></td>\n",
              "    </tr>\n",
              "    <tr>\n",
              "      <th>779</th>\n",
              "      <td>4000927</td>\n",
              "      <td>1</td>\n",
              "      <td>2</td>\n",
              "      <td>0.50</td>\n",
              "      <td></td>\n",
              "    </tr>\n",
              "    <tr>\n",
              "      <th>247</th>\n",
              "      <td>4000301</td>\n",
              "      <td>1</td>\n",
              "      <td>2</td>\n",
              "      <td>0.50</td>\n",
              "      <td></td>\n",
              "    </tr>\n",
              "    <tr>\n",
              "      <th>2379</th>\n",
              "      <td>4003694</td>\n",
              "      <td>1</td>\n",
              "      <td>1</td>\n",
              "      <td>1.00</td>\n",
              "      <td></td>\n",
              "    </tr>\n",
              "    <tr>\n",
              "      <th>275</th>\n",
              "      <td>4000331</td>\n",
              "      <td>1</td>\n",
              "      <td>5</td>\n",
              "      <td>0.20</td>\n",
              "      <td></td>\n",
              "    </tr>\n",
              "    <tr>\n",
              "      <th>277</th>\n",
              "      <td>4000333</td>\n",
              "      <td>1</td>\n",
              "      <td>3</td>\n",
              "      <td>0.33</td>\n",
              "      <td></td>\n",
              "    </tr>\n",
              "    <tr>\n",
              "      <th>2383</th>\n",
              "      <td>4003698</td>\n",
              "      <td>1</td>\n",
              "      <td>9</td>\n",
              "      <td>0.11</td>\n",
              "      <td></td>\n",
              "    </tr>\n",
              "    <tr>\n",
              "      <th>1542</th>\n",
              "      <td>4001984</td>\n",
              "      <td>1</td>\n",
              "      <td>11</td>\n",
              "      <td>0.09</td>\n",
              "      <td></td>\n",
              "    </tr>\n",
              "    <tr>\n",
              "      <th>2790</th>\n",
              "      <td>4004594</td>\n",
              "      <td>1</td>\n",
              "      <td>4</td>\n",
              "      <td>0.25</td>\n",
              "      <td></td>\n",
              "    </tr>\n",
              "    <tr>\n",
              "      <th>2489</th>\n",
              "      <td>4003833</td>\n",
              "      <td>1</td>\n",
              "      <td>21</td>\n",
              "      <td>0.05</td>\n",
              "      <td></td>\n",
              "    </tr>\n",
              "    <tr>\n",
              "      <th>2217</th>\n",
              "      <td>4003322</td>\n",
              "      <td>1</td>\n",
              "      <td>11</td>\n",
              "      <td>0.09</td>\n",
              "      <td></td>\n",
              "    </tr>\n",
              "    <tr>\n",
              "      <th>2263</th>\n",
              "      <td>4003530</td>\n",
              "      <td>1</td>\n",
              "      <td>45</td>\n",
              "      <td>0.02</td>\n",
              "      <td></td>\n",
              "    </tr>\n",
              "    <tr>\n",
              "      <th>2410</th>\n",
              "      <td>4003731</td>\n",
              "      <td>1</td>\n",
              "      <td>7</td>\n",
              "      <td>0.14</td>\n",
              "      <td></td>\n",
              "    </tr>\n",
              "    <tr>\n",
              "      <th>2870</th>\n",
              "      <td>4005114</td>\n",
              "      <td>1</td>\n",
              "      <td>1</td>\n",
              "      <td>1.00</td>\n",
              "      <td></td>\n",
              "    </tr>\n",
              "    <tr>\n",
              "      <th>1716</th>\n",
              "      <td>4002276</td>\n",
              "      <td>1</td>\n",
              "      <td>2</td>\n",
              "      <td>0.50</td>\n",
              "      <td></td>\n",
              "    </tr>\n",
              "    <tr>\n",
              "      <th>298</th>\n",
              "      <td>4000359</td>\n",
              "      <td>1</td>\n",
              "      <td>3</td>\n",
              "      <td>0.33</td>\n",
              "      <td></td>\n",
              "    </tr>\n",
              "    <tr>\n",
              "      <th>1816</th>\n",
              "      <td>4002431</td>\n",
              "      <td>1</td>\n",
              "      <td>56</td>\n",
              "      <td>0.02</td>\n",
              "      <td></td>\n",
              "    </tr>\n",
              "  </tbody>\n",
              "</table>\n",
              "</div>"
            ],
            "text/plain": [
              "      material  qtd_loja  qtd_vendas  porcentagem status\n",
              "670    4000793        15          70         0.21       \n",
              "672    4000795        13          30         0.43       \n",
              "7      4000020         9          27         0.33       \n",
              "2619   4004124         8          21         0.38       \n",
              "6      4000019         7         151         0.05       \n",
              "4581   6001415         4          14         0.29       \n",
              "1318   4001620         3           5         0.60       \n",
              "2380   4003695         3           6         0.50       \n",
              "1902   4002553         2          13         0.15       \n",
              "299    4000360         2           2         1.00       \n",
              "381    4000446         2          45         0.04       \n",
              "4009   6000425         2           5         0.40       \n",
              "139    4000173         2           3         0.67       \n",
              "4410   6001075         2           2         1.00       \n",
              "488    4000567         1           5         0.20       \n",
              "779    4000927         1           2         0.50       \n",
              "247    4000301         1           2         0.50       \n",
              "2379   4003694         1           1         1.00       \n",
              "275    4000331         1           5         0.20       \n",
              "277    4000333         1           3         0.33       \n",
              "2383   4003698         1           9         0.11       \n",
              "1542   4001984         1          11         0.09       \n",
              "2790   4004594         1           4         0.25       \n",
              "2489   4003833         1          21         0.05       \n",
              "2217   4003322         1          11         0.09       \n",
              "2263   4003530         1          45         0.02       \n",
              "2410   4003731         1           7         0.14       \n",
              "2870   4005114         1           1         1.00       \n",
              "1716   4002276         1           2         0.50       \n",
              "298    4000359         1           3         0.33       \n",
              "1816   4002431         1          56         0.02       "
            ]
          },
          "metadata": {
            "tags": []
          },
          "execution_count": 85
        }
      ]
    },
    {
      "cell_type": "markdown",
      "metadata": {
        "id": "KQ4ZPFoN9oII",
        "colab_type": "text"
      },
      "source": [
        "# Exportando Dados"
      ]
    },
    {
      "cell_type": "markdown",
      "metadata": {
        "id": "nEw8_r5QAnMr",
        "colab_type": "text"
      },
      "source": [
        "## Exportando formato .CSV ou .TXT"
      ]
    },
    {
      "cell_type": "markdown",
      "metadata": {
        "id": "BY4OdYIxA0P2",
        "colab_type": "text"
      },
      "source": [
        "dataframe.to_csv(**string**, sep = **string**, spkirows = **int**)"
      ]
    },
    {
      "cell_type": "markdown",
      "metadata": {
        "id": "KKogFvVDBRre",
        "colab_type": "text"
      },
      "source": [
        "1. nome do arquivo\n",
        "2. sep = string que vai separar os dados"
      ]
    },
    {
      "cell_type": "code",
      "metadata": {
        "id": "VqtERP_T9k_Y",
        "colab_type": "code",
        "colab": {}
      },
      "source": [
        "df_relatorio.to_csv('relatorio_final.csv', sep = ';')"
      ],
      "execution_count": 0,
      "outputs": []
    },
    {
      "cell_type": "markdown",
      "metadata": {
        "id": "E9WZlJgACBhZ",
        "colab_type": "text"
      },
      "source": [
        "33 Exportando formato .XLSX"
      ]
    },
    {
      "cell_type": "markdown",
      "metadata": {
        "id": "32Fa0MELCHN7",
        "colab_type": "text"
      },
      "source": [
        "writer = pd.ExcelWriter(**string**)\n",
        "\n",
        "dataframe.to_excel(writer, sheet_name = **string**, index = **bool**)\n",
        "\n",
        "writer.salve()"
      ]
    },
    {
      "cell_type": "code",
      "metadata": {
        "id": "bfM1_QcPBxaB",
        "colab_type": "code",
        "colab": {}
      },
      "source": [
        "writer = pd.ExcelWriter('Relatorio Final.xlsx')\n",
        "\n",
        "df_relatorio.to_excel(writer, sheet_name = 'relatorio', index = False)\n",
        "df_relatorio_reduzido.to_excel(writer, sheet_name = 'reduzido', index= False)\n",
        "\n",
        "writer.save()"
      ],
      "execution_count": 0,
      "outputs": []
    },
    {
      "cell_type": "code",
      "metadata": {
        "id": "F7AXtNbVEr58",
        "colab_type": "code",
        "colab": {}
      },
      "source": [
        "print('Relatório Gerado!')"
      ],
      "execution_count": 0,
      "outputs": []
    },
    {
      "cell_type": "code",
      "metadata": {
        "id": "yKPnDK0_JP0e",
        "colab_type": "code",
        "colab": {}
      },
      "source": [
        "input()"
      ],
      "execution_count": 0,
      "outputs": []
    }
  ]
}